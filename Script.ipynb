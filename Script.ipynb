{
 "cells": [
  {
   "cell_type": "code",
   "execution_count": 26,
   "id": "542b20b4-2e74-40f8-b84c-5011ba099bb1",
   "metadata": {},
   "outputs": [],
   "source": [
    "import pandas as pd\n",
    "import numpy as np\n",
    "df=pd.read_excel(\"Datos.xlsx\")"
   ]
  },
  {
   "cell_type": "code",
   "execution_count": 27,
   "id": "3136a2b7-5f65-49b7-8a9b-26003531f425",
   "metadata": {},
   "outputs": [
    {
     "data": {
      "text/html": [
       "<div>\n",
       "<style scoped>\n",
       "    .dataframe tbody tr th:only-of-type {\n",
       "        vertical-align: middle;\n",
       "    }\n",
       "\n",
       "    .dataframe tbody tr th {\n",
       "        vertical-align: top;\n",
       "    }\n",
       "\n",
       "    .dataframe thead th {\n",
       "        text-align: right;\n",
       "    }\n",
       "</style>\n",
       "<table border=\"1\" class=\"dataframe\">\n",
       "  <thead>\n",
       "    <tr style=\"text-align: right;\">\n",
       "      <th></th>\n",
       "      <th>Pedido</th>\n",
       "      <th>Valor pedido</th>\n",
       "      <th>Región consultora</th>\n",
       "      <th>Población del Municipio</th>\n",
       "      <th>Tiempo de entrega</th>\n",
       "      <th>Satisfacción</th>\n",
       "    </tr>\n",
       "  </thead>\n",
       "  <tbody>\n",
       "    <tr>\n",
       "      <th>0</th>\n",
       "      <td>1</td>\n",
       "      <td>232700.0</td>\n",
       "      <td>Sur</td>\n",
       "      <td>4</td>\n",
       "      <td>5</td>\n",
       "      <td>No</td>\n",
       "    </tr>\n",
       "    <tr>\n",
       "      <th>1</th>\n",
       "      <td>2</td>\n",
       "      <td>289300.0</td>\n",
       "      <td>Sur</td>\n",
       "      <td>4</td>\n",
       "      <td>3</td>\n",
       "      <td>Si</td>\n",
       "    </tr>\n",
       "    <tr>\n",
       "      <th>2</th>\n",
       "      <td>3</td>\n",
       "      <td>358600.0</td>\n",
       "      <td>Norte</td>\n",
       "      <td>2</td>\n",
       "      <td>2</td>\n",
       "      <td>Si</td>\n",
       "    </tr>\n",
       "    <tr>\n",
       "      <th>3</th>\n",
       "      <td>4</td>\n",
       "      <td>188600.0</td>\n",
       "      <td>Centro</td>\n",
       "      <td>3</td>\n",
       "      <td>2</td>\n",
       "      <td>Si</td>\n",
       "    </tr>\n",
       "    <tr>\n",
       "      <th>4</th>\n",
       "      <td>5</td>\n",
       "      <td>317200.0</td>\n",
       "      <td>Sur</td>\n",
       "      <td>4</td>\n",
       "      <td>3</td>\n",
       "      <td>Si</td>\n",
       "    </tr>\n",
       "    <tr>\n",
       "      <th>...</th>\n",
       "      <td>...</td>\n",
       "      <td>...</td>\n",
       "      <td>...</td>\n",
       "      <td>...</td>\n",
       "      <td>...</td>\n",
       "      <td>...</td>\n",
       "    </tr>\n",
       "    <tr>\n",
       "      <th>1745</th>\n",
       "      <td>1746</td>\n",
       "      <td>237400.0</td>\n",
       "      <td>Centro</td>\n",
       "      <td>3</td>\n",
       "      <td>2</td>\n",
       "      <td>Si</td>\n",
       "    </tr>\n",
       "    <tr>\n",
       "      <th>1746</th>\n",
       "      <td>1747</td>\n",
       "      <td>273900.0</td>\n",
       "      <td>Centro</td>\n",
       "      <td>3</td>\n",
       "      <td>2</td>\n",
       "      <td>Si</td>\n",
       "    </tr>\n",
       "    <tr>\n",
       "      <th>1747</th>\n",
       "      <td>1748</td>\n",
       "      <td>219400.0</td>\n",
       "      <td>Centro</td>\n",
       "      <td>4</td>\n",
       "      <td>2</td>\n",
       "      <td>Si</td>\n",
       "    </tr>\n",
       "    <tr>\n",
       "      <th>1748</th>\n",
       "      <td>1749</td>\n",
       "      <td>199900.0</td>\n",
       "      <td>Centro</td>\n",
       "      <td>4</td>\n",
       "      <td>2</td>\n",
       "      <td>Si</td>\n",
       "    </tr>\n",
       "    <tr>\n",
       "      <th>1749</th>\n",
       "      <td>1750</td>\n",
       "      <td>297700.0</td>\n",
       "      <td>Sur</td>\n",
       "      <td>4</td>\n",
       "      <td>3</td>\n",
       "      <td>Si</td>\n",
       "    </tr>\n",
       "  </tbody>\n",
       "</table>\n",
       "<p>1750 rows × 6 columns</p>\n",
       "</div>"
      ],
      "text/plain": [
       "      Pedido  Valor pedido Región consultora  Población del Municipio  \\\n",
       "0          1      232700.0               Sur                        4   \n",
       "1          2      289300.0               Sur                        4   \n",
       "2          3      358600.0             Norte                        2   \n",
       "3          4      188600.0            Centro                        3   \n",
       "4          5      317200.0               Sur                        4   \n",
       "...      ...           ...               ...                      ...   \n",
       "1745    1746      237400.0            Centro                        3   \n",
       "1746    1747      273900.0            Centro                        3   \n",
       "1747    1748      219400.0            Centro                        4   \n",
       "1748    1749      199900.0            Centro                        4   \n",
       "1749    1750      297700.0               Sur                        4   \n",
       "\n",
       "      Tiempo de entrega Satisfacción  \n",
       "0                     5           No  \n",
       "1                     3           Si  \n",
       "2                     2           Si  \n",
       "3                     2           Si  \n",
       "4                     3           Si  \n",
       "...                 ...          ...  \n",
       "1745                  2           Si  \n",
       "1746                  2           Si  \n",
       "1747                  2           Si  \n",
       "1748                  2           Si  \n",
       "1749                  3           Si  \n",
       "\n",
       "[1750 rows x 6 columns]"
      ]
     },
     "execution_count": 27,
     "metadata": {},
     "output_type": "execute_result"
    }
   ],
   "source": [
    "df"
   ]
  },
  {
   "cell_type": "markdown",
   "id": "cdae274c-c7ff-4cbd-b84a-1d41cf7bf070",
   "metadata": {},
   "source": [
    "Extraiga 50 muestras aleatorias de tamaño 30 de la variable valor del pedido y calcule \n",
    "la media por cada muestra.  Genere la distribución de datos con un histograma.  \n",
    "Concluya al respecto. "
   ]
  },
  {
   "cell_type": "code",
   "execution_count": 28,
   "id": "835f8735-5947-414a-80f3-e4de99fa9a9f",
   "metadata": {},
   "outputs": [],
   "source": [
    "muestras = [np.random.choice(df[\"Valor pedido\"], size=30, replace=False) for _ in range(50)]"
   ]
  },
  {
   "cell_type": "code",
   "execution_count": 29,
   "id": "bf063245-8be7-4f70-bd7d-e3fe826b5dbc",
   "metadata": {},
   "outputs": [],
   "source": [
    "medias_muestras = [np.mean(muestra) for muestra in muestras]"
   ]
  },
  {
   "cell_type": "code",
   "execution_count": 30,
   "id": "5c567828-5992-4580-bcfc-5ae71da11aec",
   "metadata": {},
   "outputs": [
    {
     "data": {
      "image/png": "[encoded data removed]",
      "text/plain": [
       "<Figure size 640x480 with 1 Axes>"
      ]
     },
     "metadata": {},
     "output_type": "display_data"
    }
   ],
   "source": [
    "import matplotlib.pyplot as plt\n",
    "plt.hist(medias_muestras, bins=10, color='skyblue', edgecolor='black')\n",
    "plt.title('Distribución de las Medias Muestrales')\n",
    "plt.xlabel('Media de la Muestra')\n",
    "plt.ylabel('Frecuencia')\n",
    "plt.show()"
   ]
  },
  {
   "cell_type": "code",
   "execution_count": 1,
   "id": "289fb13d-cd4a-4d0d-8bf8-f1cd0ee025e9",
   "metadata": {},
   "outputs": [],
   "source": [
    "from scipy.stats import norm\n",
    "# Muestreo aletorio simple\n",
    "def Tamaño_de_muestra_proporcion(Z,E,desviacion):\n",
    "    Z=round(norm.ppf(Z),3)\n",
    "    n=(Z**2*(desviacion**2))/(E**2)\n",
    "    return n"
   ]
  },
  {
   "cell_type": "code",
   "execution_count": 33,
   "id": "54a05ac2-0f44-41ae-84d9-cfe0fde71e61",
   "metadata": {},
   "outputs": [
    {
     "data": {
      "text/html": [
       "<div>\n",
       "<style scoped>\n",
       "    .dataframe tbody tr th:only-of-type {\n",
       "        vertical-align: middle;\n",
       "    }\n",
       "\n",
       "    .dataframe tbody tr th {\n",
       "        vertical-align: top;\n",
       "    }\n",
       "\n",
       "    .dataframe thead th {\n",
       "        text-align: right;\n",
       "    }\n",
       "</style>\n",
       "<table border=\"1\" class=\"dataframe\">\n",
       "  <thead>\n",
       "    <tr style=\"text-align: right;\">\n",
       "      <th></th>\n",
       "      <th>Pedido</th>\n",
       "      <th>Valor pedido</th>\n",
       "      <th>Población del Municipio</th>\n",
       "      <th>Tiempo de entrega</th>\n",
       "    </tr>\n",
       "  </thead>\n",
       "  <tbody>\n",
       "    <tr>\n",
       "      <th>count</th>\n",
       "      <td>1750.000000</td>\n",
       "      <td>1750.000000</td>\n",
       "      <td>1750.000000</td>\n",
       "      <td>1750.000000</td>\n",
       "    </tr>\n",
       "    <tr>\n",
       "      <th>mean</th>\n",
       "      <td>875.500000</td>\n",
       "      <td>248605.657143</td>\n",
       "      <td>2.840571</td>\n",
       "      <td>2.229714</td>\n",
       "    </tr>\n",
       "    <tr>\n",
       "      <th>std</th>\n",
       "      <td>505.325802</td>\n",
       "      <td>50294.015901</td>\n",
       "      <td>1.179809</td>\n",
       "      <td>0.952759</td>\n",
       "    </tr>\n",
       "    <tr>\n",
       "      <th>min</th>\n",
       "      <td>1.000000</td>\n",
       "      <td>62900.000000</td>\n",
       "      <td>1.000000</td>\n",
       "      <td>1.000000</td>\n",
       "    </tr>\n",
       "    <tr>\n",
       "      <th>25%</th>\n",
       "      <td>438.250000</td>\n",
       "      <td>214800.000000</td>\n",
       "      <td>2.000000</td>\n",
       "      <td>2.000000</td>\n",
       "    </tr>\n",
       "    <tr>\n",
       "      <th>50%</th>\n",
       "      <td>875.500000</td>\n",
       "      <td>248600.000000</td>\n",
       "      <td>3.000000</td>\n",
       "      <td>2.000000</td>\n",
       "    </tr>\n",
       "    <tr>\n",
       "      <th>75%</th>\n",
       "      <td>1312.750000</td>\n",
       "      <td>282000.000000</td>\n",
       "      <td>4.000000</td>\n",
       "      <td>3.000000</td>\n",
       "    </tr>\n",
       "    <tr>\n",
       "      <th>max</th>\n",
       "      <td>1750.000000</td>\n",
       "      <td>424400.000000</td>\n",
       "      <td>4.000000</td>\n",
       "      <td>5.000000</td>\n",
       "    </tr>\n",
       "  </tbody>\n",
       "</table>\n",
       "</div>"
      ],
      "text/plain": [
       "            Pedido   Valor pedido  Población del Municipio  Tiempo de entrega\n",
       "count  1750.000000    1750.000000              1750.000000        1750.000000\n",
       "mean    875.500000  248605.657143                 2.840571           2.229714\n",
       "std     505.325802   50294.015901                 1.179809           0.952759\n",
       "min       1.000000   62900.000000                 1.000000           1.000000\n",
       "25%     438.250000  214800.000000                 2.000000           2.000000\n",
       "50%     875.500000  248600.000000                 3.000000           2.000000\n",
       "75%    1312.750000  282000.000000                 4.000000           3.000000\n",
       "max    1750.000000  424400.000000                 4.000000           5.000000"
      ]
     },
     "execution_count": 33,
     "metadata": {},
     "output_type": "execute_result"
    }
   ],
   "source": [
    "df.describe()"
   ]
  },
  {
   "cell_type": "markdown",
   "id": "ea64959f-726c-4a2a-9ce6-1422a10945a5",
   "metadata": {},
   "source": [
    "Muestreo Aleatorio Simple"
   ]
  },
  {
   "cell_type": "markdown",
   "id": "657ecb3b-d5f3-4101-bb15-0c442da4aa1a",
   "metadata": {},
   "source": [
    "El n calculado"
   ]
  },
  {
   "cell_type": "code",
   "execution_count": 38,
   "id": "72547c60-a403-447d-97ca-a0e7281d814b",
   "metadata": {},
   "outputs": [
    {
     "data": {
      "text/plain": [
       "427.80361632054354"
      ]
     },
     "execution_count": 38,
     "metadata": {},
     "output_type": "execute_result"
    }
   ],
   "source": [
    "Tamaño_de_muestra_proporcion(0.95,4000,50294.015901)"
   ]
  },
  {
   "cell_type": "markdown",
   "id": "e5320a69-bb27-4db2-8925-d6dcafa53caa",
   "metadata": {},
   "source": [
    "Muestra tomada de la base de datos segun la muestra calculada"
   ]
  },
  {
   "cell_type": "code",
   "execution_count": 39,
   "id": "3c944744-49a1-4ab0-9db2-7688e9553a83",
   "metadata": {},
   "outputs": [],
   "source": [
    "muestra=df.sample(428)"
   ]
  },
  {
   "cell_type": "code",
   "execution_count": 40,
   "id": "86609d8c-abcb-4396-a2ca-0e6280f0c86c",
   "metadata": {},
   "outputs": [
    {
     "data": {
      "text/html": [
       "<div>\n",
       "<style scoped>\n",
       "    .dataframe tbody tr th:only-of-type {\n",
       "        vertical-align: middle;\n",
       "    }\n",
       "\n",
       "    .dataframe tbody tr th {\n",
       "        vertical-align: top;\n",
       "    }\n",
       "\n",
       "    .dataframe thead th {\n",
       "        text-align: right;\n",
       "    }\n",
       "</style>\n",
       "<table border=\"1\" class=\"dataframe\">\n",
       "  <thead>\n",
       "    <tr style=\"text-align: right;\">\n",
       "      <th></th>\n",
       "      <th>Pedido</th>\n",
       "      <th>Valor pedido</th>\n",
       "      <th>Región consultora</th>\n",
       "      <th>Población del Municipio</th>\n",
       "      <th>Tiempo de entrega</th>\n",
       "      <th>Satisfacción</th>\n",
       "    </tr>\n",
       "  </thead>\n",
       "  <tbody>\n",
       "    <tr>\n",
       "      <th>757</th>\n",
       "      <td>758</td>\n",
       "      <td>159400.0</td>\n",
       "      <td>Norte</td>\n",
       "      <td>1</td>\n",
       "      <td>1</td>\n",
       "      <td>Si</td>\n",
       "    </tr>\n",
       "    <tr>\n",
       "      <th>1185</th>\n",
       "      <td>1186</td>\n",
       "      <td>259800.0</td>\n",
       "      <td>Sur</td>\n",
       "      <td>4</td>\n",
       "      <td>3</td>\n",
       "      <td>Si</td>\n",
       "    </tr>\n",
       "    <tr>\n",
       "      <th>1191</th>\n",
       "      <td>1192</td>\n",
       "      <td>260700.0</td>\n",
       "      <td>Sur</td>\n",
       "      <td>4</td>\n",
       "      <td>5</td>\n",
       "      <td>No</td>\n",
       "    </tr>\n",
       "    <tr>\n",
       "      <th>552</th>\n",
       "      <td>553</td>\n",
       "      <td>343600.0</td>\n",
       "      <td>Centro</td>\n",
       "      <td>3</td>\n",
       "      <td>2</td>\n",
       "      <td>Si</td>\n",
       "    </tr>\n",
       "    <tr>\n",
       "      <th>1349</th>\n",
       "      <td>1350</td>\n",
       "      <td>263800.0</td>\n",
       "      <td>Norte</td>\n",
       "      <td>2</td>\n",
       "      <td>2</td>\n",
       "      <td>Si</td>\n",
       "    </tr>\n",
       "    <tr>\n",
       "      <th>...</th>\n",
       "      <td>...</td>\n",
       "      <td>...</td>\n",
       "      <td>...</td>\n",
       "      <td>...</td>\n",
       "      <td>...</td>\n",
       "      <td>...</td>\n",
       "    </tr>\n",
       "    <tr>\n",
       "      <th>958</th>\n",
       "      <td>959</td>\n",
       "      <td>285000.0</td>\n",
       "      <td>Norte</td>\n",
       "      <td>2</td>\n",
       "      <td>2</td>\n",
       "      <td>Si</td>\n",
       "    </tr>\n",
       "    <tr>\n",
       "      <th>1265</th>\n",
       "      <td>1266</td>\n",
       "      <td>186000.0</td>\n",
       "      <td>Sur</td>\n",
       "      <td>4</td>\n",
       "      <td>3</td>\n",
       "      <td>Si</td>\n",
       "    </tr>\n",
       "    <tr>\n",
       "      <th>126</th>\n",
       "      <td>127</td>\n",
       "      <td>220400.0</td>\n",
       "      <td>Norte</td>\n",
       "      <td>1</td>\n",
       "      <td>1</td>\n",
       "      <td>Si</td>\n",
       "    </tr>\n",
       "    <tr>\n",
       "      <th>1161</th>\n",
       "      <td>1162</td>\n",
       "      <td>348500.0</td>\n",
       "      <td>Centro</td>\n",
       "      <td>4</td>\n",
       "      <td>3</td>\n",
       "      <td>Si</td>\n",
       "    </tr>\n",
       "    <tr>\n",
       "      <th>1469</th>\n",
       "      <td>1470</td>\n",
       "      <td>114600.0</td>\n",
       "      <td>Sur</td>\n",
       "      <td>4</td>\n",
       "      <td>3</td>\n",
       "      <td>Si</td>\n",
       "    </tr>\n",
       "  </tbody>\n",
       "</table>\n",
       "<p>428 rows × 6 columns</p>\n",
       "</div>"
      ],
      "text/plain": [
       "      Pedido  Valor pedido Región consultora  Población del Municipio  \\\n",
       "757      758      159400.0             Norte                        1   \n",
       "1185    1186      259800.0               Sur                        4   \n",
       "1191    1192      260700.0               Sur                        4   \n",
       "552      553      343600.0            Centro                        3   \n",
       "1349    1350      263800.0             Norte                        2   \n",
       "...      ...           ...               ...                      ...   \n",
       "958      959      285000.0             Norte                        2   \n",
       "1265    1266      186000.0               Sur                        4   \n",
       "126      127      220400.0             Norte                        1   \n",
       "1161    1162      348500.0            Centro                        4   \n",
       "1469    1470      114600.0               Sur                        4   \n",
       "\n",
       "      Tiempo de entrega Satisfacción  \n",
       "757                   1           Si  \n",
       "1185                  3           Si  \n",
       "1191                  5           No  \n",
       "552                   2           Si  \n",
       "1349                  2           Si  \n",
       "...                 ...          ...  \n",
       "958                   2           Si  \n",
       "1265                  3           Si  \n",
       "126                   1           Si  \n",
       "1161                  3           Si  \n",
       "1469                  3           Si  \n",
       "\n",
       "[428 rows x 6 columns]"
      ]
     },
     "execution_count": 40,
     "metadata": {},
     "output_type": "execute_result"
    }
   ],
   "source": [
    "muestra"
   ]
  },
  {
   "cell_type": "markdown",
   "id": "98365d05-6f9c-43fc-b65d-31053281241d",
   "metadata": {},
   "source": [
    "Analisis exploratorio de datos para la muestra aleatoria simple"
   ]
  },
  {
   "cell_type": "code",
   "execution_count": 42,
   "id": "eb5c0a87-b40c-48d6-a506-cc17205a3387",
   "metadata": {},
   "outputs": [
    {
     "data": {
      "text/html": [
       "<div>\n",
       "<style scoped>\n",
       "    .dataframe tbody tr th:only-of-type {\n",
       "        vertical-align: middle;\n",
       "    }\n",
       "\n",
       "    .dataframe tbody tr th {\n",
       "        vertical-align: top;\n",
       "    }\n",
       "\n",
       "    .dataframe thead th {\n",
       "        text-align: right;\n",
       "    }\n",
       "</style>\n",
       "<table border=\"1\" class=\"dataframe\">\n",
       "  <thead>\n",
       "    <tr style=\"text-align: right;\">\n",
       "      <th></th>\n",
       "      <th>Pedido</th>\n",
       "      <th>Valor pedido</th>\n",
       "      <th>Población del Municipio</th>\n",
       "      <th>Tiempo de entrega</th>\n",
       "    </tr>\n",
       "  </thead>\n",
       "  <tbody>\n",
       "    <tr>\n",
       "      <th>count</th>\n",
       "      <td>428.000000</td>\n",
       "      <td>428.000000</td>\n",
       "      <td>428.000000</td>\n",
       "      <td>428.000000</td>\n",
       "    </tr>\n",
       "    <tr>\n",
       "      <th>mean</th>\n",
       "      <td>889.651869</td>\n",
       "      <td>249131.308411</td>\n",
       "      <td>2.897196</td>\n",
       "      <td>2.296729</td>\n",
       "    </tr>\n",
       "    <tr>\n",
       "      <th>std</th>\n",
       "      <td>504.688280</td>\n",
       "      <td>51985.438433</td>\n",
       "      <td>1.192754</td>\n",
       "      <td>1.000369</td>\n",
       "    </tr>\n",
       "    <tr>\n",
       "      <th>min</th>\n",
       "      <td>4.000000</td>\n",
       "      <td>62900.000000</td>\n",
       "      <td>1.000000</td>\n",
       "      <td>1.000000</td>\n",
       "    </tr>\n",
       "    <tr>\n",
       "      <th>25%</th>\n",
       "      <td>441.500000</td>\n",
       "      <td>216750.000000</td>\n",
       "      <td>2.000000</td>\n",
       "      <td>2.000000</td>\n",
       "    </tr>\n",
       "    <tr>\n",
       "      <th>50%</th>\n",
       "      <td>927.000000</td>\n",
       "      <td>251450.000000</td>\n",
       "      <td>3.000000</td>\n",
       "      <td>2.000000</td>\n",
       "    </tr>\n",
       "    <tr>\n",
       "      <th>75%</th>\n",
       "      <td>1333.500000</td>\n",
       "      <td>282075.000000</td>\n",
       "      <td>4.000000</td>\n",
       "      <td>3.000000</td>\n",
       "    </tr>\n",
       "    <tr>\n",
       "      <th>max</th>\n",
       "      <td>1747.000000</td>\n",
       "      <td>421400.000000</td>\n",
       "      <td>4.000000</td>\n",
       "      <td>5.000000</td>\n",
       "    </tr>\n",
       "  </tbody>\n",
       "</table>\n",
       "</div>"
      ],
      "text/plain": [
       "            Pedido   Valor pedido  Población del Municipio  Tiempo de entrega\n",
       "count   428.000000     428.000000               428.000000         428.000000\n",
       "mean    889.651869  249131.308411                 2.897196           2.296729\n",
       "std     504.688280   51985.438433                 1.192754           1.000369\n",
       "min       4.000000   62900.000000                 1.000000           1.000000\n",
       "25%     441.500000  216750.000000                 2.000000           2.000000\n",
       "50%     927.000000  251450.000000                 3.000000           2.000000\n",
       "75%    1333.500000  282075.000000                 4.000000           3.000000\n",
       "max    1747.000000  421400.000000                 4.000000           5.000000"
      ]
     },
     "execution_count": 42,
     "metadata": {},
     "output_type": "execute_result"
    }
   ],
   "source": [
    "muestra.describe()"
   ]
  },
  {
   "cell_type": "markdown",
   "id": "8992157e-89e8-4be6-8c99-0d954dc1bcab",
   "metadata": {},
   "source": [
    "Proporciones de la muestra aleatoria simple"
   ]
  },
  {
   "cell_type": "code",
   "execution_count": 50,
   "id": "d030d913-ce89-4a57-b04c-f0945c350f42",
   "metadata": {},
   "outputs": [
    {
     "data": {
      "text/plain": [
       "Región consultora\n",
       "Centro    35.981308\n",
       "Sur       33.878505\n",
       "Norte     30.140187\n",
       "Name: proportion, dtype: float64"
      ]
     },
     "execution_count": 50,
     "metadata": {},
     "output_type": "execute_result"
    }
   ],
   "source": [
    "muestra[\"Región consultora\"].value_counts(normalize=True)*100"
   ]
  },
  {
   "cell_type": "code",
   "execution_count": 52,
   "id": "d066b6c5-4a21-49d6-b1dc-1aef9afe75d7",
   "metadata": {},
   "outputs": [
    {
     "data": {
      "text/plain": [
       "Tiempo de entrega\n",
       "2    38.084112\n",
       "3    27.102804\n",
       "1    23.130841\n",
       "4     9.345794\n",
       "5     2.336449\n",
       "Name: proportion, dtype: float64"
      ]
     },
     "execution_count": 52,
     "metadata": {},
     "output_type": "execute_result"
    }
   ],
   "source": [
    "muestra[\"Tiempo de entrega\"].value_counts(normalize=True)*100"
   ]
  },
  {
   "cell_type": "code",
   "execution_count": 54,
   "id": "a78c2403-7eab-43a4-921b-a208d73b8a49",
   "metadata": {},
   "outputs": [
    {
     "data": {
      "text/plain": [
       "Satisfacción\n",
       "Si    92.056075\n",
       "No     7.943925\n",
       "Name: proportion, dtype: float64"
      ]
     },
     "execution_count": 54,
     "metadata": {},
     "output_type": "execute_result"
    }
   ],
   "source": [
    "muestra[\"Satisfacción\"].value_counts(normalize=True)*100"
   ]
  },
  {
   "cell_type": "markdown",
   "id": "1c74cade-6233-4dee-b2ab-ed627241e5ad",
   "metadata": {},
   "source": [
    "Muestreo Aleatorio Estratificado"
   ]
  },
  {
   "cell_type": "markdown",
   "id": "fa5feff8-fdaa-40de-8394-26b8d72779e8",
   "metadata": {},
   "source": [
    "1. Muestreo aleatorio simple a la base de datos"
   ]
  },
  {
   "cell_type": "markdown",
   "id": "36d73123-7e0a-482d-80db-b447ce57ef32",
   "metadata": {},
   "source": [
    "n_calculado--- 1118"
   ]
  },
  {
   "cell_type": "code",
   "execution_count": 65,
   "id": "916e5c6f-9fb9-4c79-88bd-f5943b7ae315",
   "metadata": {},
   "outputs": [
    {
     "data": {
      "text/plain": [
       "1117.1615028965311"
      ]
     },
     "execution_count": 65,
     "metadata": {},
     "output_type": "execute_result"
    }
   ],
   "source": [
    "Tamaño_de_muestra_proporcion(0.99,3500,50294.015901)"
   ]
  },
  {
   "cell_type": "markdown",
   "id": "c6898e67-e13d-48d1-8bf2-3eca88d2d565",
   "metadata": {},
   "source": [
    "2. Sacar muestra aletoria de la base de datos"
   ]
  },
  {
   "cell_type": "code",
   "execution_count": 66,
   "id": "f777fef2-6905-409f-88a5-a01db67bde6d",
   "metadata": {},
   "outputs": [],
   "source": [
    "muestra_estratificar=df.sample(1118)"
   ]
  },
  {
   "cell_type": "markdown",
   "id": "a99b7657-fb86-4c9c-a85b-0128e159f5eb",
   "metadata": {},
   "source": [
    "Estratificar la muestra tomada"
   ]
  },
  {
   "cell_type": "code",
   "execution_count": 67,
   "id": "ae24264c-efb3-46e4-b458-c99536904f43",
   "metadata": {},
   "outputs": [],
   "source": [
    "df_categoria_Sur = muestra_estratificar[muestra_estratificar['Región consultora'] == 'Sur']"
   ]
  },
  {
   "cell_type": "code",
   "execution_count": 71,
   "id": "763e2d0d-ae18-4378-9293-26f55ded675d",
   "metadata": {},
   "outputs": [],
   "source": [
    "df_categoria_Centro = muestra_estratificar[muestra_estratificar['Región consultora'] == 'Centro']"
   ]
  },
  {
   "cell_type": "code",
   "execution_count": 72,
   "id": "48834265-b6d8-4950-8a8f-8e33d9190cf4",
   "metadata": {},
   "outputs": [],
   "source": [
    "df_categoria_Norte = muestra_estratificar[muestra_estratificar['Región consultora'] == 'Norte']"
   ]
  },
  {
   "cell_type": "code",
   "execution_count": 73,
   "id": "0ed467e6-4d22-45ab-96a1-1edcea353424",
   "metadata": {},
   "outputs": [
    {
     "data": {
      "text/html": [
       "<div>\n",
       "<style scoped>\n",
       "    .dataframe tbody tr th:only-of-type {\n",
       "        vertical-align: middle;\n",
       "    }\n",
       "\n",
       "    .dataframe tbody tr th {\n",
       "        vertical-align: top;\n",
       "    }\n",
       "\n",
       "    .dataframe thead th {\n",
       "        text-align: right;\n",
       "    }\n",
       "</style>\n",
       "<table border=\"1\" class=\"dataframe\">\n",
       "  <thead>\n",
       "    <tr style=\"text-align: right;\">\n",
       "      <th></th>\n",
       "      <th>Pedido</th>\n",
       "      <th>Valor pedido</th>\n",
       "      <th>Población del Municipio</th>\n",
       "      <th>Tiempo de entrega</th>\n",
       "    </tr>\n",
       "  </thead>\n",
       "  <tbody>\n",
       "    <tr>\n",
       "      <th>count</th>\n",
       "      <td>313.000000</td>\n",
       "      <td>313.000000</td>\n",
       "      <td>313.0</td>\n",
       "      <td>313.000000</td>\n",
       "    </tr>\n",
       "    <tr>\n",
       "      <th>mean</th>\n",
       "      <td>896.460064</td>\n",
       "      <td>247463.578275</td>\n",
       "      <td>4.0</td>\n",
       "      <td>3.389776</td>\n",
       "    </tr>\n",
       "    <tr>\n",
       "      <th>std</th>\n",
       "      <td>493.514573</td>\n",
       "      <td>51851.060889</td>\n",
       "      <td>0.0</td>\n",
       "      <td>0.631561</td>\n",
       "    </tr>\n",
       "    <tr>\n",
       "      <th>min</th>\n",
       "      <td>1.000000</td>\n",
       "      <td>101600.000000</td>\n",
       "      <td>4.0</td>\n",
       "      <td>3.000000</td>\n",
       "    </tr>\n",
       "    <tr>\n",
       "      <th>25%</th>\n",
       "      <td>451.000000</td>\n",
       "      <td>213400.000000</td>\n",
       "      <td>4.0</td>\n",
       "      <td>3.000000</td>\n",
       "    </tr>\n",
       "    <tr>\n",
       "      <th>50%</th>\n",
       "      <td>917.000000</td>\n",
       "      <td>245800.000000</td>\n",
       "      <td>4.0</td>\n",
       "      <td>3.000000</td>\n",
       "    </tr>\n",
       "    <tr>\n",
       "      <th>75%</th>\n",
       "      <td>1282.000000</td>\n",
       "      <td>282400.000000</td>\n",
       "      <td>4.0</td>\n",
       "      <td>4.000000</td>\n",
       "    </tr>\n",
       "    <tr>\n",
       "      <th>max</th>\n",
       "      <td>1743.000000</td>\n",
       "      <td>421400.000000</td>\n",
       "      <td>4.0</td>\n",
       "      <td>5.000000</td>\n",
       "    </tr>\n",
       "  </tbody>\n",
       "</table>\n",
       "</div>"
      ],
      "text/plain": [
       "            Pedido   Valor pedido  Población del Municipio  Tiempo de entrega\n",
       "count   313.000000     313.000000                    313.0         313.000000\n",
       "mean    896.460064  247463.578275                      4.0           3.389776\n",
       "std     493.514573   51851.060889                      0.0           0.631561\n",
       "min       1.000000  101600.000000                      4.0           3.000000\n",
       "25%     451.000000  213400.000000                      4.0           3.000000\n",
       "50%     917.000000  245800.000000                      4.0           3.000000\n",
       "75%    1282.000000  282400.000000                      4.0           4.000000\n",
       "max    1743.000000  421400.000000                      4.0           5.000000"
      ]
     },
     "execution_count": 73,
     "metadata": {},
     "output_type": "execute_result"
    }
   ],
   "source": [
    "df_categoria_Sur.describe()"
   ]
  },
  {
   "cell_type": "code",
   "execution_count": 74,
   "id": "beff3e4e-1c19-4bb3-ba85-63db316af51e",
   "metadata": {},
   "outputs": [
    {
     "data": {
      "text/html": [
       "<div>\n",
       "<style scoped>\n",
       "    .dataframe tbody tr th:only-of-type {\n",
       "        vertical-align: middle;\n",
       "    }\n",
       "\n",
       "    .dataframe tbody tr th {\n",
       "        vertical-align: top;\n",
       "    }\n",
       "\n",
       "    .dataframe thead th {\n",
       "        text-align: right;\n",
       "    }\n",
       "</style>\n",
       "<table border=\"1\" class=\"dataframe\">\n",
       "  <thead>\n",
       "    <tr style=\"text-align: right;\">\n",
       "      <th></th>\n",
       "      <th>Pedido</th>\n",
       "      <th>Valor pedido</th>\n",
       "      <th>Población del Municipio</th>\n",
       "      <th>Tiempo de entrega</th>\n",
       "    </tr>\n",
       "  </thead>\n",
       "  <tbody>\n",
       "    <tr>\n",
       "      <th>count</th>\n",
       "      <td>441.000000</td>\n",
       "      <td>441.000000</td>\n",
       "      <td>441.000000</td>\n",
       "      <td>441.000000</td>\n",
       "    </tr>\n",
       "    <tr>\n",
       "      <th>mean</th>\n",
       "      <td>890.464853</td>\n",
       "      <td>246862.585034</td>\n",
       "      <td>3.240363</td>\n",
       "      <td>2.111111</td>\n",
       "    </tr>\n",
       "    <tr>\n",
       "      <th>std</th>\n",
       "      <td>501.271392</td>\n",
       "      <td>49527.205395</td>\n",
       "      <td>0.501184</td>\n",
       "      <td>0.314627</td>\n",
       "    </tr>\n",
       "    <tr>\n",
       "      <th>min</th>\n",
       "      <td>4.000000</td>\n",
       "      <td>110600.000000</td>\n",
       "      <td>2.000000</td>\n",
       "      <td>2.000000</td>\n",
       "    </tr>\n",
       "    <tr>\n",
       "      <th>25%</th>\n",
       "      <td>459.000000</td>\n",
       "      <td>214800.000000</td>\n",
       "      <td>3.000000</td>\n",
       "      <td>2.000000</td>\n",
       "    </tr>\n",
       "    <tr>\n",
       "      <th>50%</th>\n",
       "      <td>904.000000</td>\n",
       "      <td>246200.000000</td>\n",
       "      <td>3.000000</td>\n",
       "      <td>2.000000</td>\n",
       "    </tr>\n",
       "    <tr>\n",
       "      <th>75%</th>\n",
       "      <td>1334.000000</td>\n",
       "      <td>279400.000000</td>\n",
       "      <td>4.000000</td>\n",
       "      <td>2.000000</td>\n",
       "    </tr>\n",
       "    <tr>\n",
       "      <th>max</th>\n",
       "      <td>1749.000000</td>\n",
       "      <td>382100.000000</td>\n",
       "      <td>4.000000</td>\n",
       "      <td>3.000000</td>\n",
       "    </tr>\n",
       "  </tbody>\n",
       "</table>\n",
       "</div>"
      ],
      "text/plain": [
       "            Pedido   Valor pedido  Población del Municipio  Tiempo de entrega\n",
       "count   441.000000     441.000000               441.000000         441.000000\n",
       "mean    890.464853  246862.585034                 3.240363           2.111111\n",
       "std     501.271392   49527.205395                 0.501184           0.314627\n",
       "min       4.000000  110600.000000                 2.000000           2.000000\n",
       "25%     459.000000  214800.000000                 3.000000           2.000000\n",
       "50%     904.000000  246200.000000                 3.000000           2.000000\n",
       "75%    1334.000000  279400.000000                 4.000000           2.000000\n",
       "max    1749.000000  382100.000000                 4.000000           3.000000"
      ]
     },
     "execution_count": 74,
     "metadata": {},
     "output_type": "execute_result"
    }
   ],
   "source": [
    "df_categoria_Centro.describe()"
   ]
  },
  {
   "cell_type": "code",
   "execution_count": 75,
   "id": "512b4981-e68e-4906-9dbc-6ad12804de1f",
   "metadata": {},
   "outputs": [
    {
     "data": {
      "text/html": [
       "<div>\n",
       "<style scoped>\n",
       "    .dataframe tbody tr th:only-of-type {\n",
       "        vertical-align: middle;\n",
       "    }\n",
       "\n",
       "    .dataframe tbody tr th {\n",
       "        vertical-align: top;\n",
       "    }\n",
       "\n",
       "    .dataframe thead th {\n",
       "        text-align: right;\n",
       "    }\n",
       "</style>\n",
       "<table border=\"1\" class=\"dataframe\">\n",
       "  <thead>\n",
       "    <tr style=\"text-align: right;\">\n",
       "      <th></th>\n",
       "      <th>Pedido</th>\n",
       "      <th>Valor pedido</th>\n",
       "      <th>Población del Municipio</th>\n",
       "      <th>Tiempo de entrega</th>\n",
       "    </tr>\n",
       "  </thead>\n",
       "  <tbody>\n",
       "    <tr>\n",
       "      <th>count</th>\n",
       "      <td>364.000000</td>\n",
       "      <td>364.000000</td>\n",
       "      <td>364.000000</td>\n",
       "      <td>364.000000</td>\n",
       "    </tr>\n",
       "    <tr>\n",
       "      <th>mean</th>\n",
       "      <td>837.244505</td>\n",
       "      <td>249467.032967</td>\n",
       "      <td>1.326923</td>\n",
       "      <td>1.313187</td>\n",
       "    </tr>\n",
       "    <tr>\n",
       "      <th>std</th>\n",
       "      <td>510.501286</td>\n",
       "      <td>49810.413141</td>\n",
       "      <td>0.469735</td>\n",
       "      <td>0.464428</td>\n",
       "    </tr>\n",
       "    <tr>\n",
       "      <th>min</th>\n",
       "      <td>3.000000</td>\n",
       "      <td>102800.000000</td>\n",
       "      <td>1.000000</td>\n",
       "      <td>1.000000</td>\n",
       "    </tr>\n",
       "    <tr>\n",
       "      <th>25%</th>\n",
       "      <td>394.500000</td>\n",
       "      <td>218725.000000</td>\n",
       "      <td>1.000000</td>\n",
       "      <td>1.000000</td>\n",
       "    </tr>\n",
       "    <tr>\n",
       "      <th>50%</th>\n",
       "      <td>817.000000</td>\n",
       "      <td>249150.000000</td>\n",
       "      <td>1.000000</td>\n",
       "      <td>1.000000</td>\n",
       "    </tr>\n",
       "    <tr>\n",
       "      <th>75%</th>\n",
       "      <td>1306.500000</td>\n",
       "      <td>280150.000000</td>\n",
       "      <td>2.000000</td>\n",
       "      <td>2.000000</td>\n",
       "    </tr>\n",
       "    <tr>\n",
       "      <th>max</th>\n",
       "      <td>1742.000000</td>\n",
       "      <td>424400.000000</td>\n",
       "      <td>2.000000</td>\n",
       "      <td>2.000000</td>\n",
       "    </tr>\n",
       "  </tbody>\n",
       "</table>\n",
       "</div>"
      ],
      "text/plain": [
       "            Pedido   Valor pedido  Población del Municipio  Tiempo de entrega\n",
       "count   364.000000     364.000000               364.000000         364.000000\n",
       "mean    837.244505  249467.032967                 1.326923           1.313187\n",
       "std     510.501286   49810.413141                 0.469735           0.464428\n",
       "min       3.000000  102800.000000                 1.000000           1.000000\n",
       "25%     394.500000  218725.000000                 1.000000           1.000000\n",
       "50%     817.000000  249150.000000                 1.000000           1.000000\n",
       "75%    1306.500000  280150.000000                 2.000000           2.000000\n",
       "max    1742.000000  424400.000000                 2.000000           2.000000"
      ]
     },
     "execution_count": 75,
     "metadata": {},
     "output_type": "execute_result"
    }
   ],
   "source": [
    "df_categoria_Norte.describe()"
   ]
  },
  {
   "cell_type": "code",
   "execution_count": 77,
   "id": "ddafc69d-f011-41c9-82a9-8242fe9f79e6",
   "metadata": {},
   "outputs": [],
   "source": [
    "Muestra_estrato,desviaciones_estrato=[313,441,364],[51851.060889,49527.205395,49810.413141]"
   ]
  },
  {
   "cell_type": "code",
   "execution_count": 83,
   "id": "9390e713-273e-492c-8def-3772d8095d52",
   "metadata": {},
   "outputs": [],
   "source": [
    "# Muestreo aletorio simple\n",
    "def Tamaño_de_muestra_finita_proporcion(Z,desviacion,E,N):\n",
    "    Z=round(norm.ppf(Z),3)\n",
    "    numerador= (N * Z**2 * desviacion**2)\n",
    "    denominador=(E**2 * (N - 1)) + (Z**2 * desviacion**2)\n",
    "    n=numerador/denominador\n",
    "    return n"
   ]
  },
  {
   "cell_type": "code",
   "execution_count": 84,
   "id": "582b6dab-21d1-4a4f-bd76-bd203833d2a6",
   "metadata": {},
   "outputs": [],
   "source": [
    "import math\n",
    "def Tamaño_de_muestra_proporcion_finita_desviacion(N_h,desviacion_h,Z,E,N):\n",
    "    c=0\n",
    "    desviacion=math.sqrt(sum([(N_h[i]-1)*(desviacion_h[i]**2) for i in range(len(N_h))])/(N-len(N_h)))\n",
    "    n=round(Tamaño_de_muestra_finita_proporcion(Z,desviacion,E,N),1)\n",
    "    print(n)\n",
    "    while c < len(N_h):\n",
    "        n_h=n*((N_h[c]*desviacion_h[c])/(np.dot(N_h,desviacion_h)))\n",
    "        print(f\" la muestra para el estrato {c+1} es {n_h}\")\n",
    "        c=c+1"
   ]
  },
  {
   "cell_type": "code",
   "execution_count": 85,
   "id": "50fe778f-3d09-4811-a6e3-89c061302899",
   "metadata": {},
   "outputs": [
    {
     "name": "stdout",
     "output_type": "stream",
     "text": [
      "558.9\n",
      " la muestra para el estrato 1 es 161.39323529638307\n",
      " la muestra para el estrato 2 es 217.20296837986845\n",
      " la muestra para el estrato 3 es 180.3037963237485\n"
     ]
    }
   ],
   "source": [
    "Tamaño_de_muestra_proporcion_finita_desviacion(Muestra_estrato,desviaciones_estrato,0.99,3500,1118)"
   ]
  },
  {
   "cell_type": "markdown",
   "id": "ddba7258-54e5-462d-8a40-74d4c08544ef",
   "metadata": {},
   "source": [
    "Tomar una muestra de cada estrato"
   ]
  },
  {
   "cell_type": "code",
   "execution_count": 87,
   "id": "b7d5317b-02d8-458b-aa87-0b49ebb4a654",
   "metadata": {},
   "outputs": [],
   "source": [
    "muestra_sur=df_categoria_Sur.sample(162)"
   ]
  },
  {
   "cell_type": "code",
   "execution_count": 89,
   "id": "ac954e44-22d1-4ca1-b4b9-224da366a8ac",
   "metadata": {},
   "outputs": [],
   "source": [
    "muestra_centro=df_categoria_Centro.sample(218)"
   ]
  },
  {
   "cell_type": "code",
   "execution_count": 90,
   "id": "d8a59663-5752-481a-904f-3e530b93fd13",
   "metadata": {},
   "outputs": [],
   "source": [
    "muestra_norte=df_categoria_Norte.sample(181)"
   ]
  },
  {
   "cell_type": "code",
   "execution_count": 91,
   "id": "5aa44be7-7284-4e3f-912e-b8c82364430b",
   "metadata": {},
   "outputs": [
    {
     "data": {
      "text/html": [
       "<div>\n",
       "<style scoped>\n",
       "    .dataframe tbody tr th:only-of-type {\n",
       "        vertical-align: middle;\n",
       "    }\n",
       "\n",
       "    .dataframe tbody tr th {\n",
       "        vertical-align: top;\n",
       "    }\n",
       "\n",
       "    .dataframe thead th {\n",
       "        text-align: right;\n",
       "    }\n",
       "</style>\n",
       "<table border=\"1\" class=\"dataframe\">\n",
       "  <thead>\n",
       "    <tr style=\"text-align: right;\">\n",
       "      <th></th>\n",
       "      <th>Pedido</th>\n",
       "      <th>Valor pedido</th>\n",
       "      <th>Población del Municipio</th>\n",
       "      <th>Tiempo de entrega</th>\n",
       "    </tr>\n",
       "  </thead>\n",
       "  <tbody>\n",
       "    <tr>\n",
       "      <th>count</th>\n",
       "      <td>162.000000</td>\n",
       "      <td>162.000000</td>\n",
       "      <td>162.0</td>\n",
       "      <td>162.000000</td>\n",
       "    </tr>\n",
       "    <tr>\n",
       "      <th>mean</th>\n",
       "      <td>890.265432</td>\n",
       "      <td>249890.740741</td>\n",
       "      <td>4.0</td>\n",
       "      <td>3.388889</td>\n",
       "    </tr>\n",
       "    <tr>\n",
       "      <th>std</th>\n",
       "      <td>493.213922</td>\n",
       "      <td>52461.881821</td>\n",
       "      <td>0.0</td>\n",
       "      <td>0.623056</td>\n",
       "    </tr>\n",
       "    <tr>\n",
       "      <th>min</th>\n",
       "      <td>1.000000</td>\n",
       "      <td>101600.000000</td>\n",
       "      <td>4.0</td>\n",
       "      <td>3.000000</td>\n",
       "    </tr>\n",
       "    <tr>\n",
       "      <th>25%</th>\n",
       "      <td>466.000000</td>\n",
       "      <td>219425.000000</td>\n",
       "      <td>4.0</td>\n",
       "      <td>3.000000</td>\n",
       "    </tr>\n",
       "    <tr>\n",
       "      <th>50%</th>\n",
       "      <td>880.000000</td>\n",
       "      <td>250300.000000</td>\n",
       "      <td>4.0</td>\n",
       "      <td>3.000000</td>\n",
       "    </tr>\n",
       "    <tr>\n",
       "      <th>75%</th>\n",
       "      <td>1294.750000</td>\n",
       "      <td>284150.000000</td>\n",
       "      <td>4.0</td>\n",
       "      <td>4.000000</td>\n",
       "    </tr>\n",
       "    <tr>\n",
       "      <th>max</th>\n",
       "      <td>1729.000000</td>\n",
       "      <td>421400.000000</td>\n",
       "      <td>4.0</td>\n",
       "      <td>5.000000</td>\n",
       "    </tr>\n",
       "  </tbody>\n",
       "</table>\n",
       "</div>"
      ],
      "text/plain": [
       "            Pedido   Valor pedido  Población del Municipio  Tiempo de entrega\n",
       "count   162.000000     162.000000                    162.0         162.000000\n",
       "mean    890.265432  249890.740741                      4.0           3.388889\n",
       "std     493.213922   52461.881821                      0.0           0.623056\n",
       "min       1.000000  101600.000000                      4.0           3.000000\n",
       "25%     466.000000  219425.000000                      4.0           3.000000\n",
       "50%     880.000000  250300.000000                      4.0           3.000000\n",
       "75%    1294.750000  284150.000000                      4.0           4.000000\n",
       "max    1729.000000  421400.000000                      4.0           5.000000"
      ]
     },
     "execution_count": 91,
     "metadata": {},
     "output_type": "execute_result"
    }
   ],
   "source": [
    "muestra_sur.describe()"
   ]
  },
  {
   "cell_type": "code",
   "execution_count": 92,
   "id": "2908e10a-bc25-49fa-92b8-01ebd9ee6e90",
   "metadata": {},
   "outputs": [
    {
     "data": {
      "text/html": [
       "<div>\n",
       "<style scoped>\n",
       "    .dataframe tbody tr th:only-of-type {\n",
       "        vertical-align: middle;\n",
       "    }\n",
       "\n",
       "    .dataframe tbody tr th {\n",
       "        vertical-align: top;\n",
       "    }\n",
       "\n",
       "    .dataframe thead th {\n",
       "        text-align: right;\n",
       "    }\n",
       "</style>\n",
       "<table border=\"1\" class=\"dataframe\">\n",
       "  <thead>\n",
       "    <tr style=\"text-align: right;\">\n",
       "      <th></th>\n",
       "      <th>Pedido</th>\n",
       "      <th>Valor pedido</th>\n",
       "      <th>Población del Municipio</th>\n",
       "      <th>Tiempo de entrega</th>\n",
       "    </tr>\n",
       "  </thead>\n",
       "  <tbody>\n",
       "    <tr>\n",
       "      <th>count</th>\n",
       "      <td>218.000000</td>\n",
       "      <td>218.000000</td>\n",
       "      <td>218.000000</td>\n",
       "      <td>218.000000</td>\n",
       "    </tr>\n",
       "    <tr>\n",
       "      <th>mean</th>\n",
       "      <td>891.532110</td>\n",
       "      <td>244631.192661</td>\n",
       "      <td>3.215596</td>\n",
       "      <td>2.077982</td>\n",
       "    </tr>\n",
       "    <tr>\n",
       "      <th>std</th>\n",
       "      <td>494.372498</td>\n",
       "      <td>52123.392587</td>\n",
       "      <td>0.493585</td>\n",
       "      <td>0.268760</td>\n",
       "    </tr>\n",
       "    <tr>\n",
       "      <th>min</th>\n",
       "      <td>8.000000</td>\n",
       "      <td>110600.000000</td>\n",
       "      <td>2.000000</td>\n",
       "      <td>2.000000</td>\n",
       "    </tr>\n",
       "    <tr>\n",
       "      <th>25%</th>\n",
       "      <td>504.500000</td>\n",
       "      <td>209725.000000</td>\n",
       "      <td>3.000000</td>\n",
       "      <td>2.000000</td>\n",
       "    </tr>\n",
       "    <tr>\n",
       "      <th>50%</th>\n",
       "      <td>902.500000</td>\n",
       "      <td>239300.000000</td>\n",
       "      <td>3.000000</td>\n",
       "      <td>2.000000</td>\n",
       "    </tr>\n",
       "    <tr>\n",
       "      <th>75%</th>\n",
       "      <td>1329.500000</td>\n",
       "      <td>279100.000000</td>\n",
       "      <td>3.750000</td>\n",
       "      <td>2.000000</td>\n",
       "    </tr>\n",
       "    <tr>\n",
       "      <th>max</th>\n",
       "      <td>1749.000000</td>\n",
       "      <td>379300.000000</td>\n",
       "      <td>4.000000</td>\n",
       "      <td>3.000000</td>\n",
       "    </tr>\n",
       "  </tbody>\n",
       "</table>\n",
       "</div>"
      ],
      "text/plain": [
       "            Pedido   Valor pedido  Población del Municipio  Tiempo de entrega\n",
       "count   218.000000     218.000000               218.000000         218.000000\n",
       "mean    891.532110  244631.192661                 3.215596           2.077982\n",
       "std     494.372498   52123.392587                 0.493585           0.268760\n",
       "min       8.000000  110600.000000                 2.000000           2.000000\n",
       "25%     504.500000  209725.000000                 3.000000           2.000000\n",
       "50%     902.500000  239300.000000                 3.000000           2.000000\n",
       "75%    1329.500000  279100.000000                 3.750000           2.000000\n",
       "max    1749.000000  379300.000000                 4.000000           3.000000"
      ]
     },
     "execution_count": 92,
     "metadata": {},
     "output_type": "execute_result"
    }
   ],
   "source": [
    "muestra_centro.describe()"
   ]
  },
  {
   "cell_type": "code",
   "execution_count": 93,
   "id": "29fb0ddb-45b2-4859-9789-bfc8cecd281b",
   "metadata": {},
   "outputs": [
    {
     "data": {
      "text/html": [
       "<div>\n",
       "<style scoped>\n",
       "    .dataframe tbody tr th:only-of-type {\n",
       "        vertical-align: middle;\n",
       "    }\n",
       "\n",
       "    .dataframe tbody tr th {\n",
       "        vertical-align: top;\n",
       "    }\n",
       "\n",
       "    .dataframe thead th {\n",
       "        text-align: right;\n",
       "    }\n",
       "</style>\n",
       "<table border=\"1\" class=\"dataframe\">\n",
       "  <thead>\n",
       "    <tr style=\"text-align: right;\">\n",
       "      <th></th>\n",
       "      <th>Pedido</th>\n",
       "      <th>Valor pedido</th>\n",
       "      <th>Población del Municipio</th>\n",
       "      <th>Tiempo de entrega</th>\n",
       "    </tr>\n",
       "  </thead>\n",
       "  <tbody>\n",
       "    <tr>\n",
       "      <th>count</th>\n",
       "      <td>181.000000</td>\n",
       "      <td>181.000000</td>\n",
       "      <td>181.000000</td>\n",
       "      <td>181.000000</td>\n",
       "    </tr>\n",
       "    <tr>\n",
       "      <th>mean</th>\n",
       "      <td>840.497238</td>\n",
       "      <td>248249.171271</td>\n",
       "      <td>1.348066</td>\n",
       "      <td>1.337017</td>\n",
       "    </tr>\n",
       "    <tr>\n",
       "      <th>std</th>\n",
       "      <td>506.576391</td>\n",
       "      <td>48279.283133</td>\n",
       "      <td>0.477679</td>\n",
       "      <td>0.474002</td>\n",
       "    </tr>\n",
       "    <tr>\n",
       "      <th>min</th>\n",
       "      <td>9.000000</td>\n",
       "      <td>102800.000000</td>\n",
       "      <td>1.000000</td>\n",
       "      <td>1.000000</td>\n",
       "    </tr>\n",
       "    <tr>\n",
       "      <th>25%</th>\n",
       "      <td>384.000000</td>\n",
       "      <td>221100.000000</td>\n",
       "      <td>1.000000</td>\n",
       "      <td>1.000000</td>\n",
       "    </tr>\n",
       "    <tr>\n",
       "      <th>50%</th>\n",
       "      <td>829.000000</td>\n",
       "      <td>251400.000000</td>\n",
       "      <td>1.000000</td>\n",
       "      <td>1.000000</td>\n",
       "    </tr>\n",
       "    <tr>\n",
       "      <th>75%</th>\n",
       "      <td>1300.000000</td>\n",
       "      <td>279800.000000</td>\n",
       "      <td>2.000000</td>\n",
       "      <td>2.000000</td>\n",
       "    </tr>\n",
       "    <tr>\n",
       "      <th>max</th>\n",
       "      <td>1742.000000</td>\n",
       "      <td>397500.000000</td>\n",
       "      <td>2.000000</td>\n",
       "      <td>2.000000</td>\n",
       "    </tr>\n",
       "  </tbody>\n",
       "</table>\n",
       "</div>"
      ],
      "text/plain": [
       "            Pedido   Valor pedido  Población del Municipio  Tiempo de entrega\n",
       "count   181.000000     181.000000               181.000000         181.000000\n",
       "mean    840.497238  248249.171271                 1.348066           1.337017\n",
       "std     506.576391   48279.283133                 0.477679           0.474002\n",
       "min       9.000000  102800.000000                 1.000000           1.000000\n",
       "25%     384.000000  221100.000000                 1.000000           1.000000\n",
       "50%     829.000000  251400.000000                 1.000000           1.000000\n",
       "75%    1300.000000  279800.000000                 2.000000           2.000000\n",
       "max    1742.000000  397500.000000                 2.000000           2.000000"
      ]
     },
     "execution_count": 93,
     "metadata": {},
     "output_type": "execute_result"
    }
   ],
   "source": [
    "muestra_norte.describe()"
   ]
  },
  {
   "cell_type": "markdown",
   "id": "620608ed-e522-46f0-adae-7c8928152276",
   "metadata": {},
   "source": [
    "Para el Valor de Pedido asuma un margen de error de $3500, con un Nivel de Confianza \n",
    "del 95% y con ello calcule la muestra total y por estrato4 a través de la asignación \n",
    "proporcional."
   ]
  },
  {
   "cell_type": "markdown",
   "id": "0ecf9fdd-c5d6-4f85-94ad-7914c4e59664",
   "metadata": {},
   "source": [
    "muestreo aletorio simple de la base de datos"
   ]
  },
  {
   "cell_type": "code",
   "execution_count": 94,
   "id": "5950141e-d754-4e28-9658-d17acdd46344",
   "metadata": {},
   "outputs": [
    {
     "data": {
      "text/plain": [
       "558.763907030914"
      ]
     },
     "execution_count": 94,
     "metadata": {},
     "output_type": "execute_result"
    }
   ],
   "source": [
    "Tamaño_de_muestra_proporcion(0.95,3500,50294.015901)"
   ]
  },
  {
   "cell_type": "code",
   "execution_count": 95,
   "id": "8aedf827-ec07-4ad1-bd0e-daaba4b869b5",
   "metadata": {},
   "outputs": [],
   "source": [
    "muestra_estratificar_2=df.sample(559)"
   ]
  },
  {
   "cell_type": "markdown",
   "id": "e4d94100-253f-4d6b-bdce-e1193068f0c7",
   "metadata": {},
   "source": [
    "estratificar la primera muestra aleatoria"
   ]
  },
  {
   "cell_type": "code",
   "execution_count": 98,
   "id": "c0d56db3-7035-4839-9b56-87c4f71ec49d",
   "metadata": {},
   "outputs": [],
   "source": [
    "df_categoria_1 = muestra_estratificar_2[muestra_estratificar_2['Población del Municipio'] == 1]"
   ]
  },
  {
   "cell_type": "code",
   "execution_count": 100,
   "id": "7aa9a9b8-812f-4120-94bc-9f2260180f8d",
   "metadata": {},
   "outputs": [
    {
     "data": {
      "text/html": [
       "<div>\n",
       "<style scoped>\n",
       "    .dataframe tbody tr th:only-of-type {\n",
       "        vertical-align: middle;\n",
       "    }\n",
       "\n",
       "    .dataframe tbody tr th {\n",
       "        vertical-align: top;\n",
       "    }\n",
       "\n",
       "    .dataframe thead th {\n",
       "        text-align: right;\n",
       "    }\n",
       "</style>\n",
       "<table border=\"1\" class=\"dataframe\">\n",
       "  <thead>\n",
       "    <tr style=\"text-align: right;\">\n",
       "      <th></th>\n",
       "      <th>Pedido</th>\n",
       "      <th>Valor pedido</th>\n",
       "      <th>Población del Municipio</th>\n",
       "      <th>Tiempo de entrega</th>\n",
       "    </tr>\n",
       "  </thead>\n",
       "  <tbody>\n",
       "    <tr>\n",
       "      <th>count</th>\n",
       "      <td>127.000000</td>\n",
       "      <td>127.000000</td>\n",
       "      <td>127.0</td>\n",
       "      <td>127.0</td>\n",
       "    </tr>\n",
       "    <tr>\n",
       "      <th>mean</th>\n",
       "      <td>855.779528</td>\n",
       "      <td>251292.125984</td>\n",
       "      <td>1.0</td>\n",
       "      <td>1.0</td>\n",
       "    </tr>\n",
       "    <tr>\n",
       "      <th>std</th>\n",
       "      <td>516.802761</td>\n",
       "      <td>47617.929807</td>\n",
       "      <td>0.0</td>\n",
       "      <td>0.0</td>\n",
       "    </tr>\n",
       "    <tr>\n",
       "      <th>min</th>\n",
       "      <td>12.000000</td>\n",
       "      <td>129500.000000</td>\n",
       "      <td>1.0</td>\n",
       "      <td>1.0</td>\n",
       "    </tr>\n",
       "    <tr>\n",
       "      <th>25%</th>\n",
       "      <td>408.500000</td>\n",
       "      <td>221950.000000</td>\n",
       "      <td>1.0</td>\n",
       "      <td>1.0</td>\n",
       "    </tr>\n",
       "    <tr>\n",
       "      <th>50%</th>\n",
       "      <td>849.000000</td>\n",
       "      <td>258800.000000</td>\n",
       "      <td>1.0</td>\n",
       "      <td>1.0</td>\n",
       "    </tr>\n",
       "    <tr>\n",
       "      <th>75%</th>\n",
       "      <td>1256.000000</td>\n",
       "      <td>285450.000000</td>\n",
       "      <td>1.0</td>\n",
       "      <td>1.0</td>\n",
       "    </tr>\n",
       "    <tr>\n",
       "      <th>max</th>\n",
       "      <td>1734.000000</td>\n",
       "      <td>369500.000000</td>\n",
       "      <td>1.0</td>\n",
       "      <td>1.0</td>\n",
       "    </tr>\n",
       "  </tbody>\n",
       "</table>\n",
       "</div>"
      ],
      "text/plain": [
       "            Pedido   Valor pedido  Población del Municipio  Tiempo de entrega\n",
       "count   127.000000     127.000000                    127.0              127.0\n",
       "mean    855.779528  251292.125984                      1.0                1.0\n",
       "std     516.802761   47617.929807                      0.0                0.0\n",
       "min      12.000000  129500.000000                      1.0                1.0\n",
       "25%     408.500000  221950.000000                      1.0                1.0\n",
       "50%     849.000000  258800.000000                      1.0                1.0\n",
       "75%    1256.000000  285450.000000                      1.0                1.0\n",
       "max    1734.000000  369500.000000                      1.0                1.0"
      ]
     },
     "execution_count": 100,
     "metadata": {},
     "output_type": "execute_result"
    }
   ],
   "source": [
    "df_categoria_1.describe()"
   ]
  },
  {
   "cell_type": "code",
   "execution_count": 101,
   "id": "3ccd8169-240e-4145-a29a-216c83aade65",
   "metadata": {},
   "outputs": [],
   "source": [
    "df_categoria_2 = muestra_estratificar_2[muestra_estratificar_2['Población del Municipio'] == 2]"
   ]
  },
  {
   "cell_type": "code",
   "execution_count": 102,
   "id": "662c662d-1386-49b0-8449-13d932d4f947",
   "metadata": {},
   "outputs": [
    {
     "data": {
      "text/html": [
       "<div>\n",
       "<style scoped>\n",
       "    .dataframe tbody tr th:only-of-type {\n",
       "        vertical-align: middle;\n",
       "    }\n",
       "\n",
       "    .dataframe tbody tr th {\n",
       "        vertical-align: top;\n",
       "    }\n",
       "\n",
       "    .dataframe thead th {\n",
       "        text-align: right;\n",
       "    }\n",
       "</style>\n",
       "<table border=\"1\" class=\"dataframe\">\n",
       "  <thead>\n",
       "    <tr style=\"text-align: right;\">\n",
       "      <th></th>\n",
       "      <th>Pedido</th>\n",
       "      <th>Valor pedido</th>\n",
       "      <th>Población del Municipio</th>\n",
       "      <th>Tiempo de entrega</th>\n",
       "    </tr>\n",
       "  </thead>\n",
       "  <tbody>\n",
       "    <tr>\n",
       "      <th>count</th>\n",
       "      <td>59.000000</td>\n",
       "      <td>59.000000</td>\n",
       "      <td>59.0</td>\n",
       "      <td>59.000000</td>\n",
       "    </tr>\n",
       "    <tr>\n",
       "      <th>mean</th>\n",
       "      <td>855.169492</td>\n",
       "      <td>252566.101695</td>\n",
       "      <td>2.0</td>\n",
       "      <td>1.966102</td>\n",
       "    </tr>\n",
       "    <tr>\n",
       "      <th>std</th>\n",
       "      <td>507.890198</td>\n",
       "      <td>49379.625877</td>\n",
       "      <td>0.0</td>\n",
       "      <td>0.182521</td>\n",
       "    </tr>\n",
       "    <tr>\n",
       "      <th>min</th>\n",
       "      <td>9.000000</td>\n",
       "      <td>154900.000000</td>\n",
       "      <td>2.0</td>\n",
       "      <td>1.000000</td>\n",
       "    </tr>\n",
       "    <tr>\n",
       "      <th>25%</th>\n",
       "      <td>422.500000</td>\n",
       "      <td>218050.000000</td>\n",
       "      <td>2.0</td>\n",
       "      <td>2.000000</td>\n",
       "    </tr>\n",
       "    <tr>\n",
       "      <th>50%</th>\n",
       "      <td>929.000000</td>\n",
       "      <td>251800.000000</td>\n",
       "      <td>2.0</td>\n",
       "      <td>2.000000</td>\n",
       "    </tr>\n",
       "    <tr>\n",
       "      <th>75%</th>\n",
       "      <td>1333.000000</td>\n",
       "      <td>284950.000000</td>\n",
       "      <td>2.0</td>\n",
       "      <td>2.000000</td>\n",
       "    </tr>\n",
       "    <tr>\n",
       "      <th>max</th>\n",
       "      <td>1641.000000</td>\n",
       "      <td>365800.000000</td>\n",
       "      <td>2.0</td>\n",
       "      <td>2.000000</td>\n",
       "    </tr>\n",
       "  </tbody>\n",
       "</table>\n",
       "</div>"
      ],
      "text/plain": [
       "            Pedido   Valor pedido  Población del Municipio  Tiempo de entrega\n",
       "count    59.000000      59.000000                     59.0          59.000000\n",
       "mean    855.169492  252566.101695                      2.0           1.966102\n",
       "std     507.890198   49379.625877                      0.0           0.182521\n",
       "min       9.000000  154900.000000                      2.0           1.000000\n",
       "25%     422.500000  218050.000000                      2.0           2.000000\n",
       "50%     929.000000  251800.000000                      2.0           2.000000\n",
       "75%    1333.000000  284950.000000                      2.0           2.000000\n",
       "max    1641.000000  365800.000000                      2.0           2.000000"
      ]
     },
     "execution_count": 102,
     "metadata": {},
     "output_type": "execute_result"
    }
   ],
   "source": [
    "df_categoria_2.describe()"
   ]
  },
  {
   "cell_type": "code",
   "execution_count": 103,
   "id": "e013e5a1-78b6-4d97-807e-e8cbea57663d",
   "metadata": {},
   "outputs": [],
   "source": [
    "df_categoria_3 = muestra_estratificar_2[muestra_estratificar_2['Población del Municipio'] == 3]"
   ]
  },
  {
   "cell_type": "code",
   "execution_count": 104,
   "id": "d92bed80-661c-47ed-83f8-bda80ac4d2f8",
   "metadata": {},
   "outputs": [
    {
     "data": {
      "text/html": [
       "<div>\n",
       "<style scoped>\n",
       "    .dataframe tbody tr th:only-of-type {\n",
       "        vertical-align: middle;\n",
       "    }\n",
       "\n",
       "    .dataframe tbody tr th {\n",
       "        vertical-align: top;\n",
       "    }\n",
       "\n",
       "    .dataframe thead th {\n",
       "        text-align: right;\n",
       "    }\n",
       "</style>\n",
       "<table border=\"1\" class=\"dataframe\">\n",
       "  <thead>\n",
       "    <tr style=\"text-align: right;\">\n",
       "      <th></th>\n",
       "      <th>Pedido</th>\n",
       "      <th>Valor pedido</th>\n",
       "      <th>Población del Municipio</th>\n",
       "      <th>Tiempo de entrega</th>\n",
       "    </tr>\n",
       "  </thead>\n",
       "  <tbody>\n",
       "    <tr>\n",
       "      <th>count</th>\n",
       "      <td>136.000000</td>\n",
       "      <td>136.000000</td>\n",
       "      <td>136.0</td>\n",
       "      <td>136.0</td>\n",
       "    </tr>\n",
       "    <tr>\n",
       "      <th>mean</th>\n",
       "      <td>864.485294</td>\n",
       "      <td>256603.676471</td>\n",
       "      <td>3.0</td>\n",
       "      <td>2.0</td>\n",
       "    </tr>\n",
       "    <tr>\n",
       "      <th>std</th>\n",
       "      <td>503.162738</td>\n",
       "      <td>47517.364324</td>\n",
       "      <td>0.0</td>\n",
       "      <td>0.0</td>\n",
       "    </tr>\n",
       "    <tr>\n",
       "      <th>min</th>\n",
       "      <td>4.000000</td>\n",
       "      <td>111900.000000</td>\n",
       "      <td>3.0</td>\n",
       "      <td>2.0</td>\n",
       "    </tr>\n",
       "    <tr>\n",
       "      <th>25%</th>\n",
       "      <td>394.750000</td>\n",
       "      <td>230325.000000</td>\n",
       "      <td>3.0</td>\n",
       "      <td>2.0</td>\n",
       "    </tr>\n",
       "    <tr>\n",
       "      <th>50%</th>\n",
       "      <td>879.500000</td>\n",
       "      <td>254800.000000</td>\n",
       "      <td>3.0</td>\n",
       "      <td>2.0</td>\n",
       "    </tr>\n",
       "    <tr>\n",
       "      <th>75%</th>\n",
       "      <td>1286.750000</td>\n",
       "      <td>284200.000000</td>\n",
       "      <td>3.0</td>\n",
       "      <td>2.0</td>\n",
       "    </tr>\n",
       "    <tr>\n",
       "      <th>max</th>\n",
       "      <td>1744.000000</td>\n",
       "      <td>373000.000000</td>\n",
       "      <td>3.0</td>\n",
       "      <td>2.0</td>\n",
       "    </tr>\n",
       "  </tbody>\n",
       "</table>\n",
       "</div>"
      ],
      "text/plain": [
       "            Pedido   Valor pedido  Población del Municipio  Tiempo de entrega\n",
       "count   136.000000     136.000000                    136.0              136.0\n",
       "mean    864.485294  256603.676471                      3.0                2.0\n",
       "std     503.162738   47517.364324                      0.0                0.0\n",
       "min       4.000000  111900.000000                      3.0                2.0\n",
       "25%     394.750000  230325.000000                      3.0                2.0\n",
       "50%     879.500000  254800.000000                      3.0                2.0\n",
       "75%    1286.750000  284200.000000                      3.0                2.0\n",
       "max    1744.000000  373000.000000                      3.0                2.0"
      ]
     },
     "execution_count": 104,
     "metadata": {},
     "output_type": "execute_result"
    }
   ],
   "source": [
    "df_categoria_3.describe()"
   ]
  },
  {
   "cell_type": "code",
   "execution_count": 105,
   "id": "864765fe-4f26-4afb-97a0-4f3e2127b8f7",
   "metadata": {},
   "outputs": [],
   "source": [
    "df_categoria_4 = muestra_estratificar_2[muestra_estratificar_2['Población del Municipio'] == 4]"
   ]
  },
  {
   "cell_type": "code",
   "execution_count": 106,
   "id": "f369a736-6fd9-49aa-af49-947d6c71a332",
   "metadata": {},
   "outputs": [
    {
     "data": {
      "text/html": [
       "<div>\n",
       "<style scoped>\n",
       "    .dataframe tbody tr th:only-of-type {\n",
       "        vertical-align: middle;\n",
       "    }\n",
       "\n",
       "    .dataframe tbody tr th {\n",
       "        vertical-align: top;\n",
       "    }\n",
       "\n",
       "    .dataframe thead th {\n",
       "        text-align: right;\n",
       "    }\n",
       "</style>\n",
       "<table border=\"1\" class=\"dataframe\">\n",
       "  <thead>\n",
       "    <tr style=\"text-align: right;\">\n",
       "      <th></th>\n",
       "      <th>Pedido</th>\n",
       "      <th>Valor pedido</th>\n",
       "      <th>Población del Municipio</th>\n",
       "      <th>Tiempo de entrega</th>\n",
       "    </tr>\n",
       "  </thead>\n",
       "  <tbody>\n",
       "    <tr>\n",
       "      <th>count</th>\n",
       "      <td>237.000000</td>\n",
       "      <td>237.000000</td>\n",
       "      <td>237.0</td>\n",
       "      <td>237.000000</td>\n",
       "    </tr>\n",
       "    <tr>\n",
       "      <th>mean</th>\n",
       "      <td>863.265823</td>\n",
       "      <td>246883.966245</td>\n",
       "      <td>4.0</td>\n",
       "      <td>3.194093</td>\n",
       "    </tr>\n",
       "    <tr>\n",
       "      <th>std</th>\n",
       "      <td>501.104400</td>\n",
       "      <td>46992.225244</td>\n",
       "      <td>0.0</td>\n",
       "      <td>0.767650</td>\n",
       "    </tr>\n",
       "    <tr>\n",
       "      <th>min</th>\n",
       "      <td>5.000000</td>\n",
       "      <td>62900.000000</td>\n",
       "      <td>4.0</td>\n",
       "      <td>2.000000</td>\n",
       "    </tr>\n",
       "    <tr>\n",
       "      <th>25%</th>\n",
       "      <td>450.000000</td>\n",
       "      <td>216500.000000</td>\n",
       "      <td>4.0</td>\n",
       "      <td>3.000000</td>\n",
       "    </tr>\n",
       "    <tr>\n",
       "      <th>50%</th>\n",
       "      <td>847.000000</td>\n",
       "      <td>244500.000000</td>\n",
       "      <td>4.0</td>\n",
       "      <td>3.000000</td>\n",
       "    </tr>\n",
       "    <tr>\n",
       "      <th>75%</th>\n",
       "      <td>1297.000000</td>\n",
       "      <td>277600.000000</td>\n",
       "      <td>4.0</td>\n",
       "      <td>4.000000</td>\n",
       "    </tr>\n",
       "    <tr>\n",
       "      <th>max</th>\n",
       "      <td>1743.000000</td>\n",
       "      <td>362900.000000</td>\n",
       "      <td>4.0</td>\n",
       "      <td>5.000000</td>\n",
       "    </tr>\n",
       "  </tbody>\n",
       "</table>\n",
       "</div>"
      ],
      "text/plain": [
       "            Pedido   Valor pedido  Población del Municipio  Tiempo de entrega\n",
       "count   237.000000     237.000000                    237.0         237.000000\n",
       "mean    863.265823  246883.966245                      4.0           3.194093\n",
       "std     501.104400   46992.225244                      0.0           0.767650\n",
       "min       5.000000   62900.000000                      4.0           2.000000\n",
       "25%     450.000000  216500.000000                      4.0           3.000000\n",
       "50%     847.000000  244500.000000                      4.0           3.000000\n",
       "75%    1297.000000  277600.000000                      4.0           4.000000\n",
       "max    1743.000000  362900.000000                      4.0           5.000000"
      ]
     },
     "execution_count": 106,
     "metadata": {},
     "output_type": "execute_result"
    }
   ],
   "source": [
    "df_categoria_4.describe()"
   ]
  },
  {
   "cell_type": "code",
   "execution_count": 107,
   "id": "6ea830c3-716f-4fbb-8bcf-095a5161d0f8",
   "metadata": {},
   "outputs": [],
   "source": [
    "Muestra_estrato_2,desviaciones_estrato_2=[127,59,136,237],[47617.929807,49379.625877,47517.364324,46992.225244]"
   ]
  },
  {
   "cell_type": "code",
   "execution_count": 108,
   "id": "055f6406-9e60-44a1-bc35-3ca0770e7497",
   "metadata": {},
   "outputs": [
    {
     "name": "stdout",
     "output_type": "stream",
     "text": [
      "263.8\n",
      " la muestra para el estrato 1 es 60.06403589375219\n",
      " la muestra para el estrato 2 es 28.936105944835507\n",
      " la muestra para el estrato 3 es 64.18470223106827\n",
      " la muestra para el estrato 4 es 110.61515593034405\n"
     ]
    }
   ],
   "source": [
    "Tamaño_de_muestra_proporcion_finita_desviacion(Muestra_estrato_2,desviaciones_estrato_2,0.95,3500,559)"
   ]
  },
  {
   "cell_type": "markdown",
   "id": "3be8215f-9495-492e-8667-cf110ad61182",
   "metadata": {},
   "source": [
    "Sacar una muestra aleatoria por cada estrato"
   ]
  },
  {
   "cell_type": "code",
   "execution_count": 113,
   "id": "dacd1049-696e-48a9-be53-68b0e100c7c5",
   "metadata": {},
   "outputs": [],
   "source": [
    "muestra_estrato_1=df_categoria_1.sample(61)"
   ]
  },
  {
   "cell_type": "code",
   "execution_count": 115,
   "id": "0345b2a1-f1fd-487d-ae0b-924890733ce0",
   "metadata": {},
   "outputs": [],
   "source": [
    "muestra_estrato_2=df_categoria_2.sample(29)"
   ]
  },
  {
   "cell_type": "code",
   "execution_count": 116,
   "id": "dd564fd2-0935-4c9b-b8ce-941dd1263fc4",
   "metadata": {},
   "outputs": [],
   "source": [
    "muestra_estrato_3=df_categoria_3.sample(65)"
   ]
  },
  {
   "cell_type": "code",
   "execution_count": 117,
   "id": "e95df994-69f9-4f84-95b9-7f799449487e",
   "metadata": {},
   "outputs": [],
   "source": [
    "muestra_estrato_4=df_categoria_4.sample(111)"
   ]
  },
  {
   "cell_type": "code",
   "execution_count": 118,
   "id": "7bb50d60-f9c5-4978-9cec-6abb2a32ce86",
   "metadata": {},
   "outputs": [
    {
     "data": {
      "text/html": [
       "<div>\n",
       "<style scoped>\n",
       "    .dataframe tbody tr th:only-of-type {\n",
       "        vertical-align: middle;\n",
       "    }\n",
       "\n",
       "    .dataframe tbody tr th {\n",
       "        vertical-align: top;\n",
       "    }\n",
       "\n",
       "    .dataframe thead th {\n",
       "        text-align: right;\n",
       "    }\n",
       "</style>\n",
       "<table border=\"1\" class=\"dataframe\">\n",
       "  <thead>\n",
       "    <tr style=\"text-align: right;\">\n",
       "      <th></th>\n",
       "      <th>Pedido</th>\n",
       "      <th>Valor pedido</th>\n",
       "      <th>Población del Municipio</th>\n",
       "      <th>Tiempo de entrega</th>\n",
       "    </tr>\n",
       "  </thead>\n",
       "  <tbody>\n",
       "    <tr>\n",
       "      <th>count</th>\n",
       "      <td>61.000000</td>\n",
       "      <td>61.000000</td>\n",
       "      <td>61.0</td>\n",
       "      <td>61.0</td>\n",
       "    </tr>\n",
       "    <tr>\n",
       "      <th>mean</th>\n",
       "      <td>851.327869</td>\n",
       "      <td>251198.360656</td>\n",
       "      <td>1.0</td>\n",
       "      <td>1.0</td>\n",
       "    </tr>\n",
       "    <tr>\n",
       "      <th>std</th>\n",
       "      <td>532.300001</td>\n",
       "      <td>46194.052618</td>\n",
       "      <td>0.0</td>\n",
       "      <td>0.0</td>\n",
       "    </tr>\n",
       "    <tr>\n",
       "      <th>min</th>\n",
       "      <td>26.000000</td>\n",
       "      <td>135000.000000</td>\n",
       "      <td>1.0</td>\n",
       "      <td>1.0</td>\n",
       "    </tr>\n",
       "    <tr>\n",
       "      <th>25%</th>\n",
       "      <td>398.000000</td>\n",
       "      <td>221600.000000</td>\n",
       "      <td>1.0</td>\n",
       "      <td>1.0</td>\n",
       "    </tr>\n",
       "    <tr>\n",
       "      <th>50%</th>\n",
       "      <td>861.000000</td>\n",
       "      <td>261500.000000</td>\n",
       "      <td>1.0</td>\n",
       "      <td>1.0</td>\n",
       "    </tr>\n",
       "    <tr>\n",
       "      <th>75%</th>\n",
       "      <td>1213.000000</td>\n",
       "      <td>284600.000000</td>\n",
       "      <td>1.0</td>\n",
       "      <td>1.0</td>\n",
       "    </tr>\n",
       "    <tr>\n",
       "      <th>max</th>\n",
       "      <td>1734.000000</td>\n",
       "      <td>336700.000000</td>\n",
       "      <td>1.0</td>\n",
       "      <td>1.0</td>\n",
       "    </tr>\n",
       "  </tbody>\n",
       "</table>\n",
       "</div>"
      ],
      "text/plain": [
       "            Pedido   Valor pedido  Población del Municipio  Tiempo de entrega\n",
       "count    61.000000      61.000000                     61.0               61.0\n",
       "mean    851.327869  251198.360656                      1.0                1.0\n",
       "std     532.300001   46194.052618                      0.0                0.0\n",
       "min      26.000000  135000.000000                      1.0                1.0\n",
       "25%     398.000000  221600.000000                      1.0                1.0\n",
       "50%     861.000000  261500.000000                      1.0                1.0\n",
       "75%    1213.000000  284600.000000                      1.0                1.0\n",
       "max    1734.000000  336700.000000                      1.0                1.0"
      ]
     },
     "execution_count": 118,
     "metadata": {},
     "output_type": "execute_result"
    }
   ],
   "source": [
    "muestra_estrato_1.describe()"
   ]
  },
  {
   "cell_type": "code",
   "execution_count": 119,
   "id": "e4f5adf5-af3e-4fe4-89c0-80dc0a98c674",
   "metadata": {},
   "outputs": [
    {
     "data": {
      "text/html": [
       "<div>\n",
       "<style scoped>\n",
       "    .dataframe tbody tr th:only-of-type {\n",
       "        vertical-align: middle;\n",
       "    }\n",
       "\n",
       "    .dataframe tbody tr th {\n",
       "        vertical-align: top;\n",
       "    }\n",
       "\n",
       "    .dataframe thead th {\n",
       "        text-align: right;\n",
       "    }\n",
       "</style>\n",
       "<table border=\"1\" class=\"dataframe\">\n",
       "  <thead>\n",
       "    <tr style=\"text-align: right;\">\n",
       "      <th></th>\n",
       "      <th>Pedido</th>\n",
       "      <th>Valor pedido</th>\n",
       "      <th>Población del Municipio</th>\n",
       "      <th>Tiempo de entrega</th>\n",
       "    </tr>\n",
       "  </thead>\n",
       "  <tbody>\n",
       "    <tr>\n",
       "      <th>count</th>\n",
       "      <td>29.000000</td>\n",
       "      <td>29.000000</td>\n",
       "      <td>29.0</td>\n",
       "      <td>29.000000</td>\n",
       "    </tr>\n",
       "    <tr>\n",
       "      <th>mean</th>\n",
       "      <td>799.310345</td>\n",
       "      <td>246162.068966</td>\n",
       "      <td>2.0</td>\n",
       "      <td>1.965517</td>\n",
       "    </tr>\n",
       "    <tr>\n",
       "      <th>std</th>\n",
       "      <td>472.119318</td>\n",
       "      <td>47661.098346</td>\n",
       "      <td>0.0</td>\n",
       "      <td>0.185695</td>\n",
       "    </tr>\n",
       "    <tr>\n",
       "      <th>min</th>\n",
       "      <td>100.000000</td>\n",
       "      <td>173500.000000</td>\n",
       "      <td>2.0</td>\n",
       "      <td>1.000000</td>\n",
       "    </tr>\n",
       "    <tr>\n",
       "      <th>25%</th>\n",
       "      <td>381.000000</td>\n",
       "      <td>216600.000000</td>\n",
       "      <td>2.0</td>\n",
       "      <td>2.000000</td>\n",
       "    </tr>\n",
       "    <tr>\n",
       "      <th>50%</th>\n",
       "      <td>840.000000</td>\n",
       "      <td>243800.000000</td>\n",
       "      <td>2.0</td>\n",
       "      <td>2.000000</td>\n",
       "    </tr>\n",
       "    <tr>\n",
       "      <th>75%</th>\n",
       "      <td>1076.000000</td>\n",
       "      <td>273500.000000</td>\n",
       "      <td>2.0</td>\n",
       "      <td>2.000000</td>\n",
       "    </tr>\n",
       "    <tr>\n",
       "      <th>max</th>\n",
       "      <td>1616.000000</td>\n",
       "      <td>360400.000000</td>\n",
       "      <td>2.0</td>\n",
       "      <td>2.000000</td>\n",
       "    </tr>\n",
       "  </tbody>\n",
       "</table>\n",
       "</div>"
      ],
      "text/plain": [
       "            Pedido   Valor pedido  Población del Municipio  Tiempo de entrega\n",
       "count    29.000000      29.000000                     29.0          29.000000\n",
       "mean    799.310345  246162.068966                      2.0           1.965517\n",
       "std     472.119318   47661.098346                      0.0           0.185695\n",
       "min     100.000000  173500.000000                      2.0           1.000000\n",
       "25%     381.000000  216600.000000                      2.0           2.000000\n",
       "50%     840.000000  243800.000000                      2.0           2.000000\n",
       "75%    1076.000000  273500.000000                      2.0           2.000000\n",
       "max    1616.000000  360400.000000                      2.0           2.000000"
      ]
     },
     "execution_count": 119,
     "metadata": {},
     "output_type": "execute_result"
    }
   ],
   "source": [
    "muestra_estrato_2.describe()"
   ]
  },
  {
   "cell_type": "code",
   "execution_count": 120,
   "id": "219e34b9-4418-494c-8650-4523682895a8",
   "metadata": {},
   "outputs": [
    {
     "data": {
      "text/html": [
       "<div>\n",
       "<style scoped>\n",
       "    .dataframe tbody tr th:only-of-type {\n",
       "        vertical-align: middle;\n",
       "    }\n",
       "\n",
       "    .dataframe tbody tr th {\n",
       "        vertical-align: top;\n",
       "    }\n",
       "\n",
       "    .dataframe thead th {\n",
       "        text-align: right;\n",
       "    }\n",
       "</style>\n",
       "<table border=\"1\" class=\"dataframe\">\n",
       "  <thead>\n",
       "    <tr style=\"text-align: right;\">\n",
       "      <th></th>\n",
       "      <th>Pedido</th>\n",
       "      <th>Valor pedido</th>\n",
       "      <th>Población del Municipio</th>\n",
       "      <th>Tiempo de entrega</th>\n",
       "    </tr>\n",
       "  </thead>\n",
       "  <tbody>\n",
       "    <tr>\n",
       "      <th>count</th>\n",
       "      <td>65.000000</td>\n",
       "      <td>65.000000</td>\n",
       "      <td>65.0</td>\n",
       "      <td>65.0</td>\n",
       "    </tr>\n",
       "    <tr>\n",
       "      <th>mean</th>\n",
       "      <td>918.938462</td>\n",
       "      <td>259310.769231</td>\n",
       "      <td>3.0</td>\n",
       "      <td>2.0</td>\n",
       "    </tr>\n",
       "    <tr>\n",
       "      <th>std</th>\n",
       "      <td>520.182446</td>\n",
       "      <td>48610.595948</td>\n",
       "      <td>0.0</td>\n",
       "      <td>0.0</td>\n",
       "    </tr>\n",
       "    <tr>\n",
       "      <th>min</th>\n",
       "      <td>21.000000</td>\n",
       "      <td>111900.000000</td>\n",
       "      <td>3.0</td>\n",
       "      <td>2.0</td>\n",
       "    </tr>\n",
       "    <tr>\n",
       "      <th>25%</th>\n",
       "      <td>394.000000</td>\n",
       "      <td>233200.000000</td>\n",
       "      <td>3.0</td>\n",
       "      <td>2.0</td>\n",
       "    </tr>\n",
       "    <tr>\n",
       "      <th>50%</th>\n",
       "      <td>1013.000000</td>\n",
       "      <td>258500.000000</td>\n",
       "      <td>3.0</td>\n",
       "      <td>2.0</td>\n",
       "    </tr>\n",
       "    <tr>\n",
       "      <th>75%</th>\n",
       "      <td>1375.000000</td>\n",
       "      <td>287400.000000</td>\n",
       "      <td>3.0</td>\n",
       "      <td>2.0</td>\n",
       "    </tr>\n",
       "    <tr>\n",
       "      <th>max</th>\n",
       "      <td>1733.000000</td>\n",
       "      <td>353300.000000</td>\n",
       "      <td>3.0</td>\n",
       "      <td>2.0</td>\n",
       "    </tr>\n",
       "  </tbody>\n",
       "</table>\n",
       "</div>"
      ],
      "text/plain": [
       "            Pedido   Valor pedido  Población del Municipio  Tiempo de entrega\n",
       "count    65.000000      65.000000                     65.0               65.0\n",
       "mean    918.938462  259310.769231                      3.0                2.0\n",
       "std     520.182446   48610.595948                      0.0                0.0\n",
       "min      21.000000  111900.000000                      3.0                2.0\n",
       "25%     394.000000  233200.000000                      3.0                2.0\n",
       "50%    1013.000000  258500.000000                      3.0                2.0\n",
       "75%    1375.000000  287400.000000                      3.0                2.0\n",
       "max    1733.000000  353300.000000                      3.0                2.0"
      ]
     },
     "execution_count": 120,
     "metadata": {},
     "output_type": "execute_result"
    }
   ],
   "source": [
    "muestra_estrato_3.describe()"
   ]
  },
  {
   "cell_type": "code",
   "execution_count": 121,
   "id": "37796a12-1ca8-47e2-bda8-d4f92ca06c4c",
   "metadata": {},
   "outputs": [
    {
     "data": {
      "text/html": [
       "<div>\n",
       "<style scoped>\n",
       "    .dataframe tbody tr th:only-of-type {\n",
       "        vertical-align: middle;\n",
       "    }\n",
       "\n",
       "    .dataframe tbody tr th {\n",
       "        vertical-align: top;\n",
       "    }\n",
       "\n",
       "    .dataframe thead th {\n",
       "        text-align: right;\n",
       "    }\n",
       "</style>\n",
       "<table border=\"1\" class=\"dataframe\">\n",
       "  <thead>\n",
       "    <tr style=\"text-align: right;\">\n",
       "      <th></th>\n",
       "      <th>Pedido</th>\n",
       "      <th>Valor pedido</th>\n",
       "      <th>Población del Municipio</th>\n",
       "      <th>Tiempo de entrega</th>\n",
       "    </tr>\n",
       "  </thead>\n",
       "  <tbody>\n",
       "    <tr>\n",
       "      <th>count</th>\n",
       "      <td>111.000000</td>\n",
       "      <td>111.000000</td>\n",
       "      <td>111.0</td>\n",
       "      <td>111.000000</td>\n",
       "    </tr>\n",
       "    <tr>\n",
       "      <th>mean</th>\n",
       "      <td>880.117117</td>\n",
       "      <td>252823.423423</td>\n",
       "      <td>4.0</td>\n",
       "      <td>3.243243</td>\n",
       "    </tr>\n",
       "    <tr>\n",
       "      <th>std</th>\n",
       "      <td>494.321881</td>\n",
       "      <td>40314.829112</td>\n",
       "      <td>0.0</td>\n",
       "      <td>0.765343</td>\n",
       "    </tr>\n",
       "    <tr>\n",
       "      <th>min</th>\n",
       "      <td>5.000000</td>\n",
       "      <td>153800.000000</td>\n",
       "      <td>4.0</td>\n",
       "      <td>2.000000</td>\n",
       "    </tr>\n",
       "    <tr>\n",
       "      <th>25%</th>\n",
       "      <td>512.000000</td>\n",
       "      <td>224900.000000</td>\n",
       "      <td>4.0</td>\n",
       "      <td>3.000000</td>\n",
       "    </tr>\n",
       "    <tr>\n",
       "      <th>50%</th>\n",
       "      <td>828.000000</td>\n",
       "      <td>248500.000000</td>\n",
       "      <td>4.0</td>\n",
       "      <td>3.000000</td>\n",
       "    </tr>\n",
       "    <tr>\n",
       "      <th>75%</th>\n",
       "      <td>1302.500000</td>\n",
       "      <td>278850.000000</td>\n",
       "      <td>4.0</td>\n",
       "      <td>4.000000</td>\n",
       "    </tr>\n",
       "    <tr>\n",
       "      <th>max</th>\n",
       "      <td>1743.000000</td>\n",
       "      <td>335500.000000</td>\n",
       "      <td>4.0</td>\n",
       "      <td>5.000000</td>\n",
       "    </tr>\n",
       "  </tbody>\n",
       "</table>\n",
       "</div>"
      ],
      "text/plain": [
       "            Pedido   Valor pedido  Población del Municipio  Tiempo de entrega\n",
       "count   111.000000     111.000000                    111.0         111.000000\n",
       "mean    880.117117  252823.423423                      4.0           3.243243\n",
       "std     494.321881   40314.829112                      0.0           0.765343\n",
       "min       5.000000  153800.000000                      4.0           2.000000\n",
       "25%     512.000000  224900.000000                      4.0           3.000000\n",
       "50%     828.000000  248500.000000                      4.0           3.000000\n",
       "75%    1302.500000  278850.000000                      4.0           4.000000\n",
       "max    1743.000000  335500.000000                      4.0           5.000000"
      ]
     },
     "execution_count": 121,
     "metadata": {},
     "output_type": "execute_result"
    }
   ],
   "source": [
    "muestra_estrato_4.describe()"
   ]
  },
  {
   "cell_type": "markdown",
   "id": "5d845198-e0d9-475f-a96f-d7b2e26afa2a",
   "metadata": {},
   "source": [
    "Intervalo de confianza MAS"
   ]
  },
  {
   "cell_type": "markdown",
   "id": "3ec2f9bd-2e4d-4f00-8587-3f3b70787053",
   "metadata": {},
   "source": [
    "X= Media muestral del valor del pedido,\n",
    " Z_alfa_medios=Esatdistico de prueba normal,\n",
    " alfa_medios=error tipo 1 a la mitad,\n",
    " desviacion=desviacion estandar poblacional,\n",
    " n=numero de muestra tomado,"
   ]
  },
  {
   "cell_type": "code",
   "execution_count": 2,
   "id": "2434c9d4-4e42-4656-9c1d-346caf6869dd",
   "metadata": {},
   "outputs": [
    {
     "name": "stdout",
     "output_type": "stream",
     "text": [
      "limite inferior de la media muestral en el valor del pedido 253896.1723255097\n",
      "limite superior de la media muestral en el valor del pedido 244366.44449649032\n"
     ]
    }
   ],
   "source": [
    "from scipy.stats import norm\n",
    "X_media_muestral=249131.308411\n",
    "desviacion_poblacional=50294.015901\n",
    "alfa=0.025\n",
    "n=428\n",
    "Z=round(norm.ppf(alfa),3)\n",
    "E=Z*(desviacion_poblacional/(n**0.5))\n",
    "print(\"limite inferior de la media muestral en el valor del pedido\",X_media_muestral-E)\n",
    "print(\"limite superior de la media muestral en el valor del pedido\",X_media_muestral+E)"
   ]
  },
  {
   "cell_type": "markdown",
   "id": "97f33ed1-0222-4ac4-a083-b26713bfbb84",
   "metadata": {},
   "source": [
    "Intervalo de confianza para el MAE , grupo Sur"
   ]
  },
  {
   "cell_type": "code",
   "execution_count": 3,
   "id": "0367d7fc-9e99-4b6e-9f9f-280a59d2101f",
   "metadata": {},
   "outputs": [
    {
     "name": "stdout",
     "output_type": "stream",
     "text": [
      "limite inferior de la media muestral en el valor del pedido 260069.73023641133\n",
      "limite superior de la media muestral en el valor del pedido 239711.75124558865\n"
     ]
    }
   ],
   "source": [
    "X_media_muestral=249890.740741\n",
    "desviacion_poblacional=50294.015901\n",
    "alfa=0.01/2\n",
    "n=162\n",
    "Z=round(norm.ppf(alfa),3)\n",
    "E=Z*(desviacion_poblacional/(n**0.5))\n",
    "print(\"limite inferior de la media muestral en el valor del pedido\",X_media_muestral-E)\n",
    "print(\"limite superior de la media muestral en el valor del pedido\",X_media_muestral+E)"
   ]
  },
  {
   "cell_type": "markdown",
   "id": "c0919a16-ece8-436e-b454-9964b6c8d92e",
   "metadata": {},
   "source": [
    "Intervalo de confianza para el MAE , grupo Centro"
   ]
  },
  {
   "cell_type": "code",
   "execution_count": 4,
   "id": "65e5132b-facc-4764-a215-81e480f29797",
   "metadata": {},
   "outputs": [
    {
     "name": "stdout",
     "output_type": "stream",
     "text": [
      "limite inferior de la media muestral en el valor del pedido 253405.9259871255\n",
      "limite superior de la media muestral en el valor del pedido 235856.45933487453\n"
     ]
    }
   ],
   "source": [
    "X_media_muestral=244631.192661\n",
    "desviacion_poblacional=50294.015901\n",
    "alfa=0.01/2\n",
    "n=218\n",
    "Z=round(norm.ppf(alfa),3)\n",
    "E=Z*(desviacion_poblacional/(n**0.5))\n",
    "print(\"limite inferior de la media muestral en el valor del pedido\",X_media_muestral-E)\n",
    "print(\"limite superior de la media muestral en el valor del pedido\",X_media_muestral+E)"
   ]
  },
  {
   "cell_type": "markdown",
   "id": "57659dfd-e422-485a-8095-0d2433fb2901",
   "metadata": {},
   "source": [
    "Intervalo de confianza para el MAE , grupo Norte"
   ]
  },
  {
   "cell_type": "code",
   "execution_count": 5,
   "id": "79b617c6-032a-440e-92b3-40569d6e4d25",
   "metadata": {},
   "outputs": [
    {
     "name": "stdout",
     "output_type": "stream",
     "text": [
      "limite inferior de la media muestral en el valor del pedido 259096.9575514584\n",
      "limite superior de la media muestral en el valor del pedido 239837.1083825416\n"
     ]
    }
   ],
   "source": [
    "X_media_muestral=249467.032967\n",
    "desviacion_poblacional=50294.015901\n",
    "alfa=0.01/2\n",
    "n=181\n",
    "Z=round(norm.ppf(alfa),3)\n",
    "E=Z*(desviacion_poblacional/(n**0.5))\n",
    "print(\"limite inferior de la media muestral en el valor del pedido\",X_media_muestral-E)\n",
    "print(\"limite superior de la media muestral en el valor del pedido\",X_media_muestral+E)"
   ]
  },
  {
   "cell_type": "markdown",
   "id": "0c733a5b-77c8-471f-ad4c-2263d3ece91e",
   "metadata": {},
   "source": [
    "Intervalo de confianza para el MAE , grupo 1"
   ]
  },
  {
   "cell_type": "code",
   "execution_count": 6,
   "id": "e0be444b-d687-4caf-ab21-bc3815a22009",
   "metadata": {},
   "outputs": [
    {
     "name": "stdout",
     "output_type": "stream",
     "text": [
      "limite inferior de la media muestral en el valor del pedido 263819.7588515086\n",
      "limite superior de la media muestral en el valor del pedido 238576.9624604914\n"
     ]
    }
   ],
   "source": [
    "X_media_muestral=251198.360656\n",
    "desviacion_poblacional=50294.015901\n",
    "alfa=0.05/2\n",
    "n=61\n",
    "Z=round(norm.ppf(alfa),3)\n",
    "E=Z*(desviacion_poblacional/(n**0.5))\n",
    "print(\"limite inferior de la media muestral en el valor del pedido\",X_media_muestral-E)\n",
    "print(\"limite superior de la media muestral en el valor del pedido\",X_media_muestral+E)"
   ]
  },
  {
   "cell_type": "markdown",
   "id": "c6e75467-c161-4fa4-8a05-f22ca4abe6e4",
   "metadata": {},
   "source": [
    "Intervalo de confianza para el MAE , grupo 2"
   ]
  },
  {
   "cell_type": "code",
   "execution_count": 7,
   "id": "ae03abe2-e36f-4c20-b217-10ac1b52691c",
   "metadata": {},
   "outputs": [
    {
     "name": "stdout",
     "output_type": "stream",
     "text": [
      "limite inferior de la media muestral en el valor del pedido 264467.2229763957\n",
      "limite superior de la media muestral en el valor del pedido 227856.9149556043\n"
     ]
    }
   ],
   "source": [
    "X_media_muestral=246162.068966\n",
    "desviacion_poblacional=50294.015901\n",
    "alfa=0.05/2\n",
    "n=29\n",
    "Z=round(norm.ppf(alfa),3)\n",
    "E=Z*(desviacion_poblacional/(n**0.5))\n",
    "print(\"limite inferior de la media muestral en el valor del pedido\",X_media_muestral-E)\n",
    "print(\"limite superior de la media muestral en el valor del pedido\",X_media_muestral+E)"
   ]
  },
  {
   "cell_type": "markdown",
   "id": "77ceda28-835b-4042-bf47-d8b7e4c8db1a",
   "metadata": {},
   "source": [
    "Intervalo de confianza para el MAE , grupo 3"
   ]
  },
  {
   "cell_type": "code",
   "execution_count": 8,
   "id": "d8c8edbf-15fa-429c-b6e9-5c3304b3f2b5",
   "metadata": {},
   "outputs": [
    {
     "name": "stdout",
     "output_type": "stream",
     "text": [
      "limite inferior de la media muestral en el valor del pedido 271537.6508618637\n",
      "limite superior de la media muestral en el valor del pedido 247083.8876001363\n"
     ]
    }
   ],
   "source": [
    "X_media_muestral=259310.769231\n",
    "desviacion_poblacional=50294.015901\n",
    "alfa=0.05/2\n",
    "n=65\n",
    "Z=round(norm.ppf(alfa),3)\n",
    "E=Z*(desviacion_poblacional/(n**0.5))\n",
    "print(\"limite inferior de la media muestral en el valor del pedido\",X_media_muestral-E)\n",
    "print(\"limite superior de la media muestral en el valor del pedido\",X_media_muestral+E)"
   ]
  },
  {
   "cell_type": "markdown",
   "id": "bc4e2dcd-3154-4566-b406-89c32378441c",
   "metadata": {},
   "source": [
    "Intervalo de confianza para el MAE , grupo 4"
   ]
  },
  {
   "cell_type": "code",
   "execution_count": 9,
   "id": "c1296393-b2b4-4a18-b14d-ff5ca537c9e5",
   "metadata": {},
   "outputs": [
    {
     "name": "stdout",
     "output_type": "stream",
     "text": [
      "limite inferior de la media muestral en el valor del pedido 262179.8690198637\n",
      "limite superior de la media muestral en el valor del pedido 243466.97782613625\n"
     ]
    }
   ],
   "source": [
    "X_media_muestral=252823.423423\n",
    "desviacion_poblacional=50294.015901\n",
    "alfa=0.05/2\n",
    "n=111\n",
    "Z=round(norm.ppf(alfa),3)\n",
    "E=Z*(desviacion_poblacional/(n**0.5))\n",
    "print(\"limite inferior de la media muestral en el valor del pedido\",X_media_muestral-E)\n",
    "print(\"limite superior de la media muestral en el valor del pedido\",X_media_muestral+E)"
   ]
  },
  {
   "cell_type": "code",
   "execution_count": null,
   "id": "7eaf98b3-f6a8-4ba9-a58e-fe313a29114d",
   "metadata": {},
   "outputs": [],
   "source": []
  }
 ],
 "metadata": {
  "kernelspec": {
   "display_name": "Python 3 (ipykernel)",
   "language": "python",
   "name": "python3"
  },
  "language_info": {
   "codemirror_mode": {
    "name": "ipython",
    "version": 3
   },
   "file_extension": ".py",
   "mimetype": "text/x-python",
   "name": "python",
   "nbconvert_exporter": "python",
   "pygments_lexer": "ipython3",
   "version": "3.11.3"
  }
 },
 "nbformat": 4,
 "nbformat_minor": 5
}
